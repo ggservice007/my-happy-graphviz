{
 "cells": [
  {
   "cell_type": "markdown",
   "metadata": {},
   "source": [
    "# subgraph"
   ]
  },
  {
   "cell_type": "code",
   "execution_count": 6,
   "metadata": {},
   "outputs": [
    {
     "name": "stdout",
     "output_type": "stream",
     "text": [
      "digraph graphname {\n",
      "subgraph  {\n",
      "rank=same;\n",
      "a;\n",
      "b;\n",
      "C;\n",
      "}\n",
      "\n",
      "}\n",
      "\n"
     ]
    },
    {
     "data": {
      "text/html": [
       "<a href=\"data/output/images/0301_0101_sub_graph.svg\" target=\"blank\"><h4>sub graph</h4></a>\n",
       "<img src=\"data/output/images/0301_0101_sub_graph.svg\" style=\"max-width: 100%\" />"
      ],
      "text/plain": [
       "<IPython.core.display.HTML object>"
      ]
     },
     "execution_count": 6,
     "metadata": {},
     "output_type": "execute_result"
    }
   ],
   "source": [
    "from my_happy_graphviz import pydot\n",
    "from my_happy_jupyter_utils import (\n",
    "    image_utils\n",
    ")\n",
    "\n",
    "\n",
    "G = pydot.Dot('graphname', graph_type='digraph')\n",
    "sub_G = pydot.Subgraph('', rank='same')\n",
    "sub_G.add_node('a')\n",
    "G.add_subgraph(sub_G)\n",
    "\n",
    "sub_G.add_node('b')\n",
    "sub_G.add_node('C')\n",
    "\n",
    "\n",
    "\n",
    "print(G.to_string())\n",
    "\n",
    "file_name = '/'.join([\n",
    "    'data/output/images',\n",
    "    '0301_0101_sub_graph.svg'\n",
    "])\n",
    "\n",
    "G.draw(file_name)\n",
    "\n",
    "image_utils.show_image_with_title_by_url({\n",
    "    'file_path': file_name,\n",
    "    'title': 'sub graph',\n",
    "})"
   ]
  },
  {
   "cell_type": "code",
   "execution_count": null,
   "metadata": {},
   "outputs": [],
   "source": []
  }
 ],
 "metadata": {
  "kernelspec": {
   "display_name": "Python 3",
   "language": "python",
   "name": "python3"
  },
  "language_info": {
   "codemirror_mode": {
    "name": "ipython",
    "version": 3
   },
   "file_extension": ".py",
   "mimetype": "text/x-python",
   "name": "python",
   "nbconvert_exporter": "python",
   "pygments_lexer": "ipython3",
   "version": "3.7.7"
  }
 },
 "nbformat": 4,
 "nbformat_minor": 4
}
