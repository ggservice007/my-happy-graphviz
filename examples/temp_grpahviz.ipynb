{
 "cells": [
  {
   "cell_type": "markdown",
   "metadata": {},
   "source": [
    "# graphviz"
   ]
  },
  {
   "cell_type": "code",
   "execution_count": 4,
   "metadata": {},
   "outputs": [
    {
     "name": "stdout",
     "output_type": "stream",
     "text": [
      "graph G {\n",
      "\tbgcolor=\"purple:pink\" fontcolor=white label=agraph\n",
      "\tsubgraph cluster1 {\n",
      "\t\tfillcolor=\"blue:cyan\" fontcolor=white gradientangle=270 label=acluster style=filled\n",
      "\t\tnode [fillcolor=\"red:yellow\" gradientangle=90 shape=box style=filled]\n",
      "\t\tanode\n",
      "\t}\n",
      "}\n"
     ]
    }
   ],
   "source": [
    "from graphviz import Digraph\n",
    "\n",
    "g = Graph('G', filename='g_c_n.gv')\n",
    "g.attr(bgcolor='purple:pink', label='agraph', fontcolor='white')\n",
    "\n",
    "with g.subgraph(name='cluster1') as c:\n",
    "    c.attr(fillcolor='blue:cyan', label='acluster', fontcolor='white',\n",
    "           style='filled', gradientangle='270')\n",
    "    c.attr('node', shape='box', fillcolor='red:yellow',\n",
    "           style='filled', gradientangle='90')\n",
    "    c.node('anode')\n",
    "\n",
    "print(g)"
   ]
  },
  {
   "cell_type": "markdown",
   "metadata": {},
   "source": []
  }
 ],
 "metadata": {
  "kernelspec": {
   "display_name": "Python 3",
   "language": "python",
   "name": "python3"
  },
  "language_info": {
   "codemirror_mode": {
    "name": "ipython",
    "version": 3
   },
   "file_extension": ".py",
   "mimetype": "text/x-python",
   "name": "python",
   "nbconvert_exporter": "python",
   "pygments_lexer": "ipython3",
   "version": "3.7.7"
  }
 },
 "nbformat": 4,
 "nbformat_minor": 4
}
