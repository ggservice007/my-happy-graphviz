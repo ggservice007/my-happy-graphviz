{
 "cells": [
  {
   "cell_type": "markdown",
   "metadata": {},
   "source": [
    "# color"
   ]
  },
  {
   "cell_type": "markdown",
   "metadata": {},
   "source": [
    "## gradient color"
   ]
  },
  {
   "cell_type": "code",
   "execution_count": 1,
   "metadata": {},
   "outputs": [
    {
     "name": "stdout",
     "output_type": "stream",
     "text": [
      "graph G {\n",
      "bgcolor=\"purple:pink\";\n",
      "fontcolor=white;\n",
      "label=agraph;\n",
      "subgraph cluster1 {\n",
      "fillcolor=\"blue:cyan\";\n",
      "fontcolor=white;\n",
      "gradientangle=270;\n",
      "label=acluster;\n",
      "style=filled;\n",
      "node [fillcolor=\"red:yellow\", gradientangle=90, shape=box, style=filled];\n",
      "anode;\n",
      "}\n",
      "\n",
      "}\n",
      "\n"
     ]
    },
    {
     "data": {
      "text/html": [
       "<a href=\"data/output/images/0301_0101_color.svg\" target=\"blank\"><h4>color</h4></a>\n",
       "<img src=\"data/output/images/0301_0101_color.svg\" style=\"max-width: 100%\" />"
      ],
      "text/plain": [
       "<IPython.core.display.HTML object>"
      ]
     },
     "execution_count": 1,
     "metadata": {},
     "output_type": "execute_result"
    }
   ],
   "source": [
    "from my_happy_graphviz import pydot\n",
    "from my_happy_jupyter_utils import (\n",
    "    image_utils\n",
    ")\n",
    "\n",
    "\n",
    "G = pydot.Dot(\n",
    "        graph_type='graph',\n",
    "        label='agraph',\n",
    "        fontcolor='white',\n",
    "        bgcolor='purple:pink'\n",
    "    )\n",
    "\n",
    "sub_g = pydot.Subgraph(\n",
    "            'cluster1', \n",
    "            fillcolor='blue:cyan',\n",
    "            label='acluster',\n",
    "            fontcolor='white',\n",
    "            style='filled',\n",
    "            gradientangle=270\n",
    "        )\n",
    "sub_g.set_node_defaults(\n",
    "        shape='box', \n",
    "        style='filled',\n",
    "        fillcolor='red:yellow',\n",
    "        gradientangle=90)\n",
    "sub_g.add_node('anode')\n",
    "\n",
    "G.add_subgraph(sub_g)\n",
    "\n",
    "\n",
    "\n",
    "print(G.to_string())\n",
    "\n",
    "file_name = '/'.join([\n",
    "    'data/output/images',\n",
    "    '0301_0101_color.svg'\n",
    "])\n",
    "\n",
    "G.draw(file_name)\n",
    "\n",
    "image_utils.show_image_with_title_by_url({\n",
    "    'file_path': file_name,\n",
    "    'title': 'color',\n",
    "})"
   ]
  },
  {
   "cell_type": "markdown",
   "metadata": {},
   "source": [
    "## angle"
   ]
  },
  {
   "cell_type": "code",
   "execution_count": 3,
   "metadata": {},
   "outputs": [
    {
     "name": "stdout",
     "output_type": "stream",
     "text": [
      "graph G {\n",
      "bgcolor=blue;\n",
      "subgraph cluster_1 {\n",
      "fontcolor=white;\n",
      "label=\"Linear Angle Variations (white to black gradient)\";\n",
      "node [fillcolor=\"white:black\", fontcolor=black, gradientangle=360, label=\"n9:360\", shape=circle, style=filled];\n",
      "n9;\n",
      "node [gradientangle=315, label=\"n8:315\"];\n",
      "n8;\n",
      "node [gradientangle=270, label=\"n7:270\"];\n",
      "n7;\n",
      "node [gradientangle=225, label=\"n6:225\"];\n",
      "n6;\n",
      "node [gradientangle=180, label=\"n5:180\"];\n",
      "n5;\n",
      "node [gradientangle=135, label=\"n4:135\"];\n",
      "n4;\n",
      "node [gradientangle=90, label=\"n3:90\"];\n",
      "n3;\n",
      "node [gradientangle=45, label=\"n2:45\"];\n",
      "n2;\n",
      "node [gradientangle=0, label=\"n1:0\"];\n",
      "n1;\n",
      "}\n",
      "\n",
      "subgraph cluster_2 {\n",
      "fontcolor=white;\n",
      "label=\"Radial Angle Variations (white to black gradient)\";\n",
      "node [fillcolor=\"white:black\", fontcolor=black, gradientangle=360, label=\"n18:360\", shape=circle, style=radial];\n",
      "n18;\n",
      "node [gradientangle=315, label=\"n17:315\"];\n",
      "n17;\n",
      "node [gradientangle=270, label=\"n16:270\"];\n",
      "n16;\n",
      "node [gradientangle=225, label=\"n15:225\"];\n",
      "n15;\n",
      "node [gradientangle=180, label=\"n14:180\"];\n",
      "n14;\n",
      "node [gradientangle=135, label=\"n13:135\"];\n",
      "n13;\n",
      "node [gradientangle=90, label=\"n12:90\"];\n",
      "n12;\n",
      "node [gradientangle=45, label=\"n11:45\"];\n",
      "n11;\n",
      "node [gradientangle=0, label=\"n10:0\"];\n",
      "n10;\n",
      "}\n",
      "\n",
      "n5 -- n14;\n",
      "}\n",
      "\n"
     ]
    },
    {
     "data": {
      "text/html": [
       "<a href=\"data/output/images/0301_0102_angle.svg\" target=\"blank\"><h4>angle</h4></a>\n",
       "<img src=\"data/output/images/0301_0102_angle.svg\" style=\"max-width: 100%\" />"
      ],
      "text/plain": [
       "<IPython.core.display.HTML object>"
      ]
     },
     "execution_count": 3,
     "metadata": {},
     "output_type": "execute_result"
    }
   ],
   "source": [
    "from my_happy_graphviz import pydot\n",
    "from my_happy_jupyter_utils import (\n",
    "    image_utils\n",
    ")\n",
    "\n",
    "\n",
    "G = pydot.Dot(graph_type='graph', bgcolor='blue')\n",
    "\n",
    "sub_g = pydot.Subgraph(\n",
    "            'cluster_1', \n",
    "            fontcolor='white'\n",
    "        )\n",
    "sub_g.set_node_defaults(\n",
    "    shape='circle',\n",
    "    style='filled',\n",
    "    fillcolor='white:black',\n",
    "    gradientangle=360,\n",
    "    label='n9:360',\n",
    "    fontcolor='black'\n",
    ")\n",
    "sub_g.add_node('n9')\n",
    "for i, a in zip(range(8, 0, -1), range(360 -45, -1, -45)):\n",
    "    sub_g.set_node_defaults(\n",
    "        gradientangle='%d' % a, \n",
    "        label='n%d:%d' % (i, a)\n",
    "    )\n",
    "    sub_g.add_node('n%d' % i)\n",
    "sub_g.set_label('Linear Angle Variations (white to black gradient)')\n",
    "\n",
    "\n",
    "G.add_subgraph(sub_g)\n",
    "\n",
    "\n",
    "sub_g = pydot.Subgraph(\n",
    "            'cluster_2', \n",
    "            fontcolor='white'\n",
    "        )\n",
    "sub_g.set_node_defaults(\n",
    "    shape='circle',\n",
    "    style='radial',\n",
    "    fillcolor='white:black',\n",
    "    gradientangle=360,\n",
    "    label='n18:360',\n",
    "    fontcolor='black'\n",
    ")\n",
    "sub_g.add_node('n18')\n",
    "\n",
    "for i, a in zip(range(17, 9, -1), range(360 -45, -1, -45)):\n",
    "    sub_g.set_node_defaults(\n",
    "        gradientangle='%d' % a,\n",
    "        label='n%d:%d' % (i, a)\n",
    "    )\n",
    "    sub_g.add_node('n%d' % i)\n",
    "    \n",
    "sub_g.set_label('Radial Angle Variations (white to black gradient)')\n",
    "\n",
    "G.add_subgraph(sub_g)\n",
    "\n",
    "\n",
    "G.add_edge_str('n5', 'n14')\n",
    "\n",
    "\n",
    "print(G.to_string())\n",
    "\n",
    "file_name = '/'.join([\n",
    "    'data/output/images',\n",
    "    '0301_0102_angle.svg'\n",
    "])\n",
    "\n",
    "G.draw(file_name)\n",
    "\n",
    "image_utils.show_image_with_title_by_url({\n",
    "    'file_path': file_name,\n",
    "    'title': 'angle',\n",
    "})"
   ]
  },
  {
   "cell_type": "code",
   "execution_count": null,
   "metadata": {},
   "outputs": [],
   "source": []
  }
 ],
 "metadata": {
  "kernelspec": {
   "display_name": "Python 3",
   "language": "python",
   "name": "python3"
  },
  "language_info": {
   "codemirror_mode": {
    "name": "ipython",
    "version": 3
   },
   "file_extension": ".py",
   "mimetype": "text/x-python",
   "name": "python",
   "nbconvert_exporter": "python",
   "pygments_lexer": "ipython3",
   "version": "3.7.7"
  }
 },
 "nbformat": 4,
 "nbformat_minor": 4
}
