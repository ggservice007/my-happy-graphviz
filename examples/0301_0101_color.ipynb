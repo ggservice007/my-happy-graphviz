{
 "cells": [
  {
   "cell_type": "markdown",
   "metadata": {},
   "source": [
    "# color"
   ]
  },
  {
   "cell_type": "markdown",
   "metadata": {},
   "source": [
    "## gradient color"
   ]
  },
  {
   "cell_type": "code",
   "execution_count": 1,
   "metadata": {},
   "outputs": [
    {
     "name": "stdout",
     "output_type": "stream",
     "text": [
      "1.4.19\n",
      "key label \"agraph\"\n",
      "key fontcolor \"white\"\n",
      "key bgcolor \"purple:pink\"\n",
      "key fillcolor \"blue:cyan\"\n",
      "key label \"acluster\"\n",
      "key fontcolor \"white\"\n",
      "key style \"filled\"\n",
      "key shape \"box\"\n",
      "key style \"filled\"\n",
      "key fillcolor \"red:yellow\"\n",
      "key fillcolor \"\\\"blue:cyan\\\"\"\n",
      "key label \"\\\"acluster\\\"\"\n",
      "key fontcolor \"\\\"white\\\"\"\n",
      "key style \"\\\"filled\\\"\"\n",
      "key shape \"\\\"box\\\"\"\n",
      "key style \"\\\"filled\\\"\"\n",
      "key fillcolor \"\\\"red:yellow\\\"\"\n",
      "graph G {\n",
      "bgcolor=\"purple:pink\";\n",
      "fontcolor=\"white\";\n",
      "label=\"agraph\";\n",
      "subgraph cluster1 {\n",
      "fillcolor=\"\\\"blue:cyan\\\"\";\n",
      "fontcolor=\"\\\"white\\\"\";\n",
      "gradientangle=270;\n",
      "label=\"\\\"acluster\\\"\";\n",
      "style=\"\\\"filled\\\"\";\n",
      "node [fillcolor=\"\\\"red:yellow\\\"\", gradientangle=90, shape=\"\\\"box\\\"\", style=\"\\\"filled\\\"\"];\n",
      "anode;\n",
      "}\n",
      "\n",
      "}\n",
      "\n",
      "key fillcolor \"\\\"\\\\\"blue:cyan\\\\\"\\\"\"\n",
      "key label \"\\\"\\\\\"acluster\\\\\"\\\"\"\n",
      "key fontcolor \"\\\"\\\\\"white\\\\\"\\\"\"\n",
      "key style \"\\\"\\\\\"filled\\\\\"\\\"\"\n",
      "key shape \"\\\"\\\\\"box\\\\\"\\\"\"\n",
      "key style \"\\\"\\\\\"filled\\\\\"\\\"\"\n",
      "key fillcolor \"\\\"\\\\\"red:yellow\\\\\"\\\"\"\n",
      "\"dot\" with args ['-Tsvg', '/tmp/tmp9_ag8y26'] returned code: 1\n",
      "\n",
      "stdout, stderr:\n",
      " b''\n",
      "b\"Error: /tmp/tmp9_ag8y26: syntax error in line 6 near '\\\\'\\n\"\n",
      "\n"
     ]
    },
    {
     "ename": "AssertionError",
     "evalue": "\"dot\" with args ['-Tsvg', '/tmp/tmp9_ag8y26'] returned code: 1",
     "output_type": "error",
     "traceback": [
      "\u001b[0;31m---------------------------------------------------------------------------\u001b[0m",
      "\u001b[0;31mAssertionError\u001b[0m                            Traceback (most recent call last)",
      "\u001b[0;32m<ipython-input-1-4ef27e302028>\u001b[0m in \u001b[0;36m<module>\u001b[0;34m\u001b[0m\n\u001b[1;32m     40\u001b[0m ])\n\u001b[1;32m     41\u001b[0m \u001b[0;34m\u001b[0m\u001b[0m\n\u001b[0;32m---> 42\u001b[0;31m \u001b[0mG\u001b[0m\u001b[0;34m.\u001b[0m\u001b[0mdraw\u001b[0m\u001b[0;34m(\u001b[0m\u001b[0mfile_name\u001b[0m\u001b[0;34m)\u001b[0m\u001b[0;34m\u001b[0m\u001b[0;34m\u001b[0m\u001b[0m\n\u001b[0m\u001b[1;32m     43\u001b[0m \u001b[0;34m\u001b[0m\u001b[0m\n\u001b[1;32m     44\u001b[0m image_utils.show_image_with_title_by_url({\n",
      "\u001b[0;32m/usr/local/lib/python3.7/site-packages/my_happy_graphviz-1.4.19-py3.7.egg/my_happy_graphviz/pydot.py\u001b[0m in \u001b[0;36mdraw\u001b[0;34m(self, path, prog, format, encoding)\u001b[0m\n\u001b[1;32m   1873\u001b[0m \u001b[0;34m\u001b[0m\u001b[0m\n\u001b[1;32m   1874\u001b[0m     \u001b[0;32mdef\u001b[0m \u001b[0mdraw\u001b[0m\u001b[0;34m(\u001b[0m\u001b[0mself\u001b[0m\u001b[0;34m,\u001b[0m \u001b[0mpath\u001b[0m\u001b[0;34m,\u001b[0m \u001b[0mprog\u001b[0m\u001b[0;34m=\u001b[0m\u001b[0;32mNone\u001b[0m\u001b[0;34m,\u001b[0m \u001b[0mformat\u001b[0m\u001b[0;34m=\u001b[0m\u001b[0;34m'svg'\u001b[0m\u001b[0;34m,\u001b[0m \u001b[0mencoding\u001b[0m\u001b[0;34m=\u001b[0m\u001b[0;34m\"UTF-8\"\u001b[0m\u001b[0;34m)\u001b[0m\u001b[0;34m:\u001b[0m\u001b[0;34m\u001b[0m\u001b[0;34m\u001b[0m\u001b[0m\n\u001b[0;32m-> 1875\u001b[0;31m         \u001b[0mself\u001b[0m\u001b[0;34m.\u001b[0m\u001b[0mwrite\u001b[0m\u001b[0;34m(\u001b[0m\u001b[0mpath\u001b[0m\u001b[0;34m,\u001b[0m \u001b[0mprog\u001b[0m\u001b[0;34m,\u001b[0m \u001b[0mformat\u001b[0m\u001b[0;34m,\u001b[0m \u001b[0mencoding\u001b[0m\u001b[0;34m)\u001b[0m\u001b[0;34m\u001b[0m\u001b[0;34m\u001b[0m\u001b[0m\n\u001b[0m\u001b[1;32m   1876\u001b[0m \u001b[0;34m\u001b[0m\u001b[0m\n\u001b[1;32m   1877\u001b[0m     \u001b[0;32mdef\u001b[0m \u001b[0mwrite\u001b[0m\u001b[0;34m(\u001b[0m\u001b[0mself\u001b[0m\u001b[0;34m,\u001b[0m \u001b[0mpath\u001b[0m\u001b[0;34m,\u001b[0m \u001b[0mprog\u001b[0m\u001b[0;34m=\u001b[0m\u001b[0;32mNone\u001b[0m\u001b[0;34m,\u001b[0m \u001b[0mformat\u001b[0m\u001b[0;34m=\u001b[0m\u001b[0;34m'raw'\u001b[0m\u001b[0;34m,\u001b[0m \u001b[0mencoding\u001b[0m\u001b[0;34m=\u001b[0m\u001b[0;32mNone\u001b[0m\u001b[0;34m)\u001b[0m\u001b[0;34m:\u001b[0m\u001b[0;34m\u001b[0m\u001b[0;34m\u001b[0m\u001b[0m\n",
      "\u001b[0;32m/usr/local/lib/python3.7/site-packages/my_happy_graphviz-1.4.19-py3.7.egg/my_happy_graphviz/pydot.py\u001b[0m in \u001b[0;36mwrite\u001b[0;34m(self, path, prog, format, encoding)\u001b[0m\n\u001b[1;32m   1909\u001b[0m                 \u001b[0mf\u001b[0m\u001b[0;34m.\u001b[0m\u001b[0mwrite\u001b[0m\u001b[0;34m(\u001b[0m\u001b[0ms\u001b[0m\u001b[0;34m)\u001b[0m\u001b[0;34m\u001b[0m\u001b[0;34m\u001b[0m\u001b[0m\n\u001b[1;32m   1910\u001b[0m         \u001b[0;32melse\u001b[0m\u001b[0;34m:\u001b[0m\u001b[0;34m\u001b[0m\u001b[0;34m\u001b[0m\u001b[0m\n\u001b[0;32m-> 1911\u001b[0;31m             \u001b[0ms\u001b[0m \u001b[0;34m=\u001b[0m \u001b[0mself\u001b[0m\u001b[0;34m.\u001b[0m\u001b[0mcreate\u001b[0m\u001b[0;34m(\u001b[0m\u001b[0mprog\u001b[0m\u001b[0;34m,\u001b[0m \u001b[0mformat\u001b[0m\u001b[0;34m,\u001b[0m \u001b[0mencoding\u001b[0m\u001b[0;34m=\u001b[0m\u001b[0mencoding\u001b[0m\u001b[0;34m)\u001b[0m\u001b[0;34m\u001b[0m\u001b[0;34m\u001b[0m\u001b[0m\n\u001b[0m\u001b[1;32m   1912\u001b[0m             \u001b[0;32mwith\u001b[0m \u001b[0mio\u001b[0m\u001b[0;34m.\u001b[0m\u001b[0mopen\u001b[0m\u001b[0;34m(\u001b[0m\u001b[0mpath\u001b[0m\u001b[0;34m,\u001b[0m \u001b[0mmode\u001b[0m\u001b[0;34m=\u001b[0m\u001b[0;34m'wb'\u001b[0m\u001b[0;34m)\u001b[0m \u001b[0;32mas\u001b[0m \u001b[0mf\u001b[0m\u001b[0;34m:\u001b[0m\u001b[0;34m\u001b[0m\u001b[0;34m\u001b[0m\u001b[0m\n\u001b[1;32m   1913\u001b[0m                 \u001b[0mf\u001b[0m\u001b[0;34m.\u001b[0m\u001b[0mwrite\u001b[0m\u001b[0;34m(\u001b[0m\u001b[0ms\u001b[0m\u001b[0;34m)\u001b[0m\u001b[0;34m\u001b[0m\u001b[0;34m\u001b[0m\u001b[0m\n",
      "\u001b[0;32m/usr/local/lib/python3.7/site-packages/my_happy_graphviz-1.4.19-py3.7.egg/my_happy_graphviz/pydot.py\u001b[0m in \u001b[0;36mcreate\u001b[0;34m(self, prog, format, encoding)\u001b[0m\n\u001b[1;32m   2041\u001b[0m                     \u001b[0mprog\u001b[0m\u001b[0;34m=\u001b[0m\u001b[0mprog\u001b[0m\u001b[0;34m,\u001b[0m\u001b[0;34m\u001b[0m\u001b[0;34m\u001b[0m\u001b[0m\n\u001b[1;32m   2042\u001b[0m                     \u001b[0marguments\u001b[0m\u001b[0;34m=\u001b[0m\u001b[0marguments\u001b[0m\u001b[0;34m,\u001b[0m\u001b[0;34m\u001b[0m\u001b[0;34m\u001b[0m\u001b[0m\n\u001b[0;32m-> 2043\u001b[0;31m                     \u001b[0mcode\u001b[0m\u001b[0;34m=\u001b[0m\u001b[0mprocess\u001b[0m\u001b[0;34m.\u001b[0m\u001b[0mreturncode\u001b[0m\u001b[0;34m,\u001b[0m\u001b[0;34m\u001b[0m\u001b[0;34m\u001b[0m\u001b[0m\n\u001b[0m\u001b[1;32m   2044\u001b[0m                 )\n\u001b[1;32m   2045\u001b[0m             )\n",
      "\u001b[0;31mAssertionError\u001b[0m: \"dot\" with args ['-Tsvg', '/tmp/tmp9_ag8y26'] returned code: 1"
     ]
    }
   ],
   "source": [
    "from my_happy_graphviz import pydot\n",
    "from my_happy_jupyter_utils import (\n",
    "    image_utils\n",
    ")\n",
    "\n",
    "print(pydot.__version__)\n",
    "\n",
    "\n",
    "G = pydot.Dot(\n",
    "        graph_type='graph',\n",
    "        label='agraph',\n",
    "        fontcolor='white',\n",
    "        bgcolor='purple:pink'\n",
    "    )\n",
    "\n",
    "sub_g = pydot.Subgraph(\n",
    "            'cluster1', \n",
    "            fillcolor='blue:cyan',\n",
    "            label='acluster',\n",
    "            fontcolor='white',\n",
    "            style='filled',\n",
    "            gradientangle=270\n",
    "        )\n",
    "sub_g.set_node_defaults(\n",
    "        shape='box', \n",
    "        style='filled',\n",
    "        fillcolor='red:yellow',\n",
    "        gradientangle=90)\n",
    "sub_g.add_node('anode')\n",
    "\n",
    "G.add_subgraph(sub_g)\n",
    "\n",
    "\n",
    "\n",
    "print(G.to_string())\n",
    "\n",
    "file_name = '/'.join([\n",
    "    'data/output/images',\n",
    "    '0301_0101_color.svg'\n",
    "])\n",
    "\n",
    "G.draw(file_name)\n",
    "\n",
    "image_utils.show_image_with_title_by_url({\n",
    "    'file_path': file_name,\n",
    "    'title': 'color',\n",
    "})"
   ]
  },
  {
   "cell_type": "markdown",
   "metadata": {},
   "source": [
    "## angle"
   ]
  },
  {
   "cell_type": "code",
   "execution_count": null,
   "metadata": {},
   "outputs": [],
   "source": [
    "from my_happy_graphviz import pydot\n",
    "from my_happy_jupyter_utils import (\n",
    "    image_utils\n",
    ")\n",
    "\n",
    "\n",
    "G = pydot.Dot(graph_type='graph', bgcolor='blue')\n",
    "\n",
    "sub_g = pydot.Subgraph(\n",
    "            'cluster_1', \n",
    "            fontcolor='white'\n",
    "        )\n",
    "sub_g.set_node_defaults(\n",
    "    shape='circle',\n",
    "    style='filled',\n",
    "    fillcolor='\\\"white:black\\\"',\n",
    "    gradientangle=360,\n",
    "    label='\\\"n9:360\\\"',\n",
    "    fontcolor='black'\n",
    ")\n",
    "\n",
    "\n",
    "G.add_subgraph(sub_g)\n",
    "\n",
    "\n",
    "\n",
    "\n",
    "print(G.to_string())\n",
    "\n",
    "file_name = '/'.join([\n",
    "    'data/output/images',\n",
    "    '0301_0102_angle.svg'\n",
    "])\n",
    "\n",
    "G.draw(file_name)\n",
    "\n",
    "image_utils.show_image_with_title_by_url({\n",
    "    'file_path': file_name,\n",
    "    'title': 'angle',\n",
    "})"
   ]
  },
  {
   "cell_type": "code",
   "execution_count": null,
   "metadata": {},
   "outputs": [],
   "source": []
  }
 ],
 "metadata": {
  "kernelspec": {
   "display_name": "Python 3",
   "language": "python",
   "name": "python3"
  },
  "language_info": {
   "codemirror_mode": {
    "name": "ipython",
    "version": 3
   },
   "file_extension": ".py",
   "mimetype": "text/x-python",
   "name": "python",
   "nbconvert_exporter": "python",
   "pygments_lexer": "ipython3",
   "version": "3.7.7"
  }
 },
 "nbformat": 4,
 "nbformat_minor": 4
}
