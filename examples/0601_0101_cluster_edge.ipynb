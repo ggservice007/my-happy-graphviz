{
 "cells": [
  {
   "cell_type": "markdown",
   "metadata": {},
   "source": [
    "# cluster edge"
   ]
  },
  {
   "cell_type": "code",
   "execution_count": 1,
   "metadata": {},
   "outputs": [
    {
     "name": "stdout",
     "output_type": "stream",
     "text": [
      "digraph G {\n",
      "compound=True;\n",
      "subgraph cluster0 {\n",
      "a -> b;\n",
      "a -> c;\n",
      "b -> d;\n",
      "c -> d;\n",
      "}\n",
      "\n",
      "subgraph cluster1 {\n",
      "e -> g;\n",
      "e -> f;\n",
      "}\n",
      "\n",
      "b -> f  [lhead=cluster1];\n",
      "d -> e;\n",
      "c -> g  [lhead=cluster1, ltail=cluster0];\n",
      "c -> e  [ltail=cluster0];\n",
      "d -> h;\n",
      "}\n",
      "\n"
     ]
    },
    {
     "data": {
      "text/html": [
       "<a href=\"data/output/images/0601_0101_edge.svg\" target=\"blank\"><h4>edge</h4></a>\n",
       "<img src=\"data/output/images/0601_0101_edge.svg\" style=\"max-width: 100%\" />"
      ],
      "text/plain": [
       "<IPython.core.display.HTML object>"
      ]
     },
     "execution_count": 1,
     "metadata": {},
     "output_type": "execute_result"
    }
   ],
   "source": [
    "from my_happy_graphviz import pydot\n",
    "from my_happy_jupyter_utils import (\n",
    "    image_utils\n",
    ")\n",
    "\n",
    "\n",
    "G = pydot.Dot(graph_type='digraph', compound=True)\n",
    "\n",
    "sub_g = pydot.Subgraph('cluster0')\n",
    "sub_g.add_edge_str('a', 'b')\n",
    "sub_g.add_edge_str('a', 'c')\n",
    "sub_g.add_edge_str('b', 'd')\n",
    "sub_g.add_edge_str('c', 'd')\n",
    "\n",
    "G.add_subgraph(sub_g)\n",
    "\n",
    "\n",
    "sub_g = pydot.Subgraph('cluster1')\n",
    "sub_g.add_edge_str('e', 'g')\n",
    "sub_g.add_edge_str('e', 'f')\n",
    "\n",
    "G.add_subgraph(sub_g)\n",
    "\n",
    "\n",
    "G.add_edge(pydot.Edge('b', 'f', lhead='cluster1'))\n",
    "G.add_edge_str('d', 'e')\n",
    "G.add_edge(pydot.Edge('c', 'g', ltail='cluster0', lhead='cluster1'))\n",
    "G.add_edge(pydot.Edge('c', 'e', ltail='cluster0'))\n",
    "G.add_edge_str('d', 'h')\n",
    "\n",
    "\n",
    "print(G.to_string())\n",
    "\n",
    "file_name = '/'.join([\n",
    "    'data/output/images',\n",
    "    '0601_0101_edge.svg'\n",
    "])\n",
    "\n",
    "G.draw(file_name)\n",
    "\n",
    "image_utils.show_image_with_title_by_url({\n",
    "    'file_path': file_name,\n",
    "    'title': 'edge',\n",
    "})"
   ]
  },
  {
   "cell_type": "markdown",
   "metadata": {},
   "source": [
    "## process"
   ]
  },
  {
   "cell_type": "code",
   "execution_count": 2,
   "metadata": {},
   "outputs": [
    {
     "name": "stdout",
     "output_type": "stream",
     "text": [
      "digraph G {\n",
      "subgraph cluster_0 {\n",
      "color=lightgrey;\n",
      "label=\"process #1\";\n",
      "style=filled;\n",
      "node [color=white, style=filled];\n",
      "a0 -> a1;\n",
      "a1 -> a2;\n",
      "a2 -> a3;\n",
      "}\n",
      "\n",
      "subgraph cluster_1 {\n",
      "color=blue;\n",
      "label=\"process #2\";\n",
      "node [style=filled];\n",
      "b0 -> b1;\n",
      "b1 -> b2;\n",
      "b2 -> b3;\n",
      "}\n",
      "\n",
      "start [shape=Mdiamond];\n",
      "end [shape=Msquare];\n",
      "start -> a0;\n",
      "start -> b0;\n",
      "a1 -> b3;\n",
      "b2 -> a3;\n",
      "a3 -> a0;\n",
      "a3 -> end;\n",
      "b3 -> end;\n",
      "}\n",
      "\n"
     ]
    },
    {
     "data": {
      "text/html": [
       "<a href=\"data/output/images/0601_0201_process.svg\" target=\"blank\"><h4>cluster process</h4></a>\n",
       "<img src=\"data/output/images/0601_0201_process.svg\" style=\"max-width: 100%\" />"
      ],
      "text/plain": [
       "<IPython.core.display.HTML object>"
      ]
     },
     "execution_count": 2,
     "metadata": {},
     "output_type": "execute_result"
    }
   ],
   "source": [
    "from my_happy_graphviz import pydot\n",
    "from my_happy_jupyter_utils import (\n",
    "    image_utils\n",
    ")\n",
    "\n",
    "\n",
    "G = pydot.Dot(graph_type='digraph')\n",
    "\n",
    "sub_g = pydot.Subgraph('cluster_0', style='filled', color='lightgrey', label='process #1')\n",
    "sub_g.set_node_defaults(style='filled', color='white')\n",
    "\n",
    "sub_g.add_edge_str('a0', 'a1')\n",
    "sub_g.add_edge_str('a1', 'a2')\n",
    "sub_g.add_edge_str('a2', 'a3')\n",
    "\n",
    "\n",
    "G.add_subgraph(sub_g)\n",
    "\n",
    "\n",
    "sub_g = pydot.Subgraph('cluster_1', color='blue', label='process #2')\n",
    "sub_g.set_node_defaults(style='filled')\n",
    "\n",
    "sub_g.add_edge_str('b0', 'b1')\n",
    "sub_g.add_edge_str('b1', 'b2')\n",
    "sub_g.add_edge_str('b2', 'b3')\n",
    "\n",
    "\n",
    "G.add_subgraph(sub_g)\n",
    "\n",
    "\n",
    "\n",
    "G.make_node('start', 'Mdiamond')\n",
    "G.make_node('end', 'Msquare')\n",
    "\n",
    "G.add_edge_str('start', 'a0')\n",
    "G.add_edge_str('start', 'b0')\n",
    "G.add_edge_str('a1', 'b3')\n",
    "G.add_edge_str('b2', 'a3')\n",
    "G.add_edge_str('a3', 'a0')\n",
    "G.add_edge_str('a3', 'end')\n",
    "G.add_edge_str('b3', 'end')\n",
    "\n",
    "\n",
    "print(G.to_string())\n",
    "\n",
    "file_name = '/'.join([\n",
    "    'data/output/images',\n",
    "    '0601_0201_process.svg'\n",
    "])\n",
    "\n",
    "G.draw(file_name)\n",
    "\n",
    "image_utils.show_image_with_title_by_url({\n",
    "    'file_path': file_name,\n",
    "    'title': 'cluster process',\n",
    "})"
   ]
  },
  {
   "cell_type": "code",
   "execution_count": null,
   "metadata": {},
   "outputs": [],
   "source": []
  }
 ],
 "metadata": {
  "kernelspec": {
   "display_name": "Python 3",
   "language": "python",
   "name": "python3"
  },
  "language_info": {
   "codemirror_mode": {
    "name": "ipython",
    "version": 3
   },
   "file_extension": ".py",
   "mimetype": "text/x-python",
   "name": "python",
   "nbconvert_exporter": "python",
   "pygments_lexer": "ipython3",
   "version": "3.7.7"
  }
 },
 "nbformat": 4,
 "nbformat_minor": 4
}
