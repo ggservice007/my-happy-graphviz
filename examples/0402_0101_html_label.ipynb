{
 "cells": [
  {
   "cell_type": "markdown",
   "metadata": {},
   "source": [
    "# html label"
   ]
  },
  {
   "cell_type": "markdown",
   "metadata": {},
   "source": [
    "## table "
   ]
  },
  {
   "cell_type": "code",
   "execution_count": 1,
   "metadata": {},
   "outputs": [
    {
     "name": "stdout",
     "output_type": "stream",
     "text": [
      "digraph structs {\n",
      "node [shape=plaintext];\n",
      "struct1 [label=<<TABLE BORDER=\"0\" CELLBORDER=\"1\" CELLSPACING=\"0\">\n",
      "  <TR>\n",
      "    <TD>left</TD>\n",
      "    <TD PORT=\"f1\">middle</TD>\n",
      "    <TD PORT=\"f2\">right</TD>\n",
      "  </TR>\n",
      "</TABLE>>];\n",
      "struct2 [label=<<TABLE BORDER=\"0\" CELLBORDER=\"1\" CELLSPACING=\"0\">\n",
      "  <TR>\n",
      "    <TD PORT=\"f0\">one</TD>\n",
      "    <TD>two</TD>\n",
      "  </TR>\n",
      "</TABLE>>];\n",
      "struct3 [label=<<TABLE BORDER=\"0\" CELLBORDER=\"1\" CELLSPACING=\"0\" CELLPADDING=\"4\">\n",
      "  <TR>\n",
      "    <TD ROWSPAN=\"3\">hello<BR/>world</TD>\n",
      "    <TD COLSPAN=\"3\">b</TD>\n",
      "    <TD ROWSPAN=\"3\">g</TD>\n",
      "    <TD ROWSPAN=\"3\">h</TD>\n",
      "  </TR>\n",
      "  <TR>\n",
      "    <TD>c</TD>\n",
      "    <TD PORT=\"here\">d</TD>\n",
      "    <TD>e</TD>\n",
      "  </TR>\n",
      "  <TR>\n",
      "    <TD COLSPAN=\"3\">f</TD>\n",
      "  </TR>\n",
      "</TABLE>>];\n",
      "struct1:f1 -> struct2:f0;\n",
      "struct1:f2 -> struct3:here;\n",
      "}\n",
      "\n"
     ]
    },
    {
     "data": {
      "text/html": [
       "<a href=\"data/output/images/0402_0101_table_node.svg\" target=\"blank\"><h4>table node</h4></a>\n",
       "<img src=\"data/output/images/0402_0101_table_node.svg\" style=\"max-width: 100%\" />"
      ],
      "text/plain": [
       "<IPython.core.display.HTML object>"
      ]
     },
     "execution_count": 1,
     "metadata": {},
     "output_type": "execute_result"
    }
   ],
   "source": [
    "from my_happy_graphviz import pydot\n",
    "from my_happy_jupyter_utils import (\n",
    "    image_utils\n",
    ")\n",
    "\n",
    "\n",
    "G = pydot.Dot(graph_type='digraph', \n",
    "              graph_name='structs')\n",
    "\n",
    "G.set_node_defaults(shape='plaintext')\n",
    "\n",
    "inode = pydot.Node('struct1', label=\"\"\"\n",
    "<<TABLE BORDER=\"0\" CELLBORDER=\"1\" CELLSPACING=\"0\">\n",
    "  <TR>\n",
    "    <TD>left</TD>\n",
    "    <TD PORT=\"f1\">middle</TD>\n",
    "    <TD PORT=\"f2\">right</TD>\n",
    "  </TR>\n",
    "</TABLE>>\"\"\".strip())\n",
    "\n",
    "G.add_node(inode)\n",
    "\n",
    "\n",
    "inode = pydot.Node('struct2', label=\"\"\"\n",
    "<<TABLE BORDER=\"0\" CELLBORDER=\"1\" CELLSPACING=\"0\">\n",
    "  <TR>\n",
    "    <TD PORT=\"f0\">one</TD>\n",
    "    <TD>two</TD>\n",
    "  </TR>\n",
    "</TABLE>>\"\"\".strip())\n",
    "\n",
    "G.add_node(inode)\n",
    "\n",
    "\n",
    "inode = pydot.Node('struct3', label=\"\"\"\n",
    "<<TABLE BORDER=\"0\" CELLBORDER=\"1\" CELLSPACING=\"0\" CELLPADDING=\"4\">\n",
    "  <TR>\n",
    "    <TD ROWSPAN=\"3\">hello<BR/>world</TD>\n",
    "    <TD COLSPAN=\"3\">b</TD>\n",
    "    <TD ROWSPAN=\"3\">g</TD>\n",
    "    <TD ROWSPAN=\"3\">h</TD>\n",
    "  </TR>\n",
    "  <TR>\n",
    "    <TD>c</TD>\n",
    "    <TD PORT=\"here\">d</TD>\n",
    "    <TD>e</TD>\n",
    "  </TR>\n",
    "  <TR>\n",
    "    <TD COLSPAN=\"3\">f</TD>\n",
    "  </TR>\n",
    "</TABLE>>\"\"\".strip())\n",
    "\n",
    "G.add_node(inode)\n",
    "\n",
    "\n",
    "G.add_edge_str('struct1:f1', 'struct2:f0')\n",
    "G.add_edge_str('struct1:f2', 'struct3:here')\n",
    "\n",
    "print(G.to_string())\n",
    "\n",
    "file_name = '/'.join([\n",
    "    'data/output/images',\n",
    "    '0402_0101_table_node.svg'\n",
    "])\n",
    "\n",
    "G.draw(file_name)\n",
    "\n",
    "image_utils.show_image_with_title_by_url({\n",
    "    'file_path': file_name,\n",
    "    'title': 'table node',\n",
    "})"
   ]
  },
  {
   "cell_type": "code",
   "execution_count": null,
   "metadata": {},
   "outputs": [],
   "source": []
  }
 ],
 "metadata": {
  "kernelspec": {
   "display_name": "Python 3",
   "language": "python",
   "name": "python3"
  },
  "language_info": {
   "codemirror_mode": {
    "name": "ipython",
    "version": 3
   },
   "file_extension": ".py",
   "mimetype": "text/x-python",
   "name": "python",
   "nbconvert_exporter": "python",
   "pygments_lexer": "ipython3",
   "version": "3.7.7"
  }
 },
 "nbformat": 4,
 "nbformat_minor": 4
}
