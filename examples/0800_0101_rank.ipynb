{
 "cells": [
  {
   "cell_type": "markdown",
   "metadata": {},
   "source": [
    "# rank"
   ]
  },
  {
   "cell_type": "markdown",
   "metadata": {},
   "source": [
    "## same"
   ]
  },
  {
   "cell_type": "code",
   "execution_count": 1,
   "metadata": {},
   "outputs": [
    {
     "name": "stdout",
     "output_type": "stream",
     "text": [
      "digraph G {\n",
      "C;\n",
      "subgraph  {\n",
      "rank=same;\n",
      "A;\n",
      "X;\n",
      "}\n",
      "\n",
      "subgraph  {\n",
      "rank=same;\n",
      "B;\n",
      "D;\n",
      "Y;\n",
      "}\n",
      "\n",
      "A -> B;\n",
      "A -> C;\n",
      "C -> D;\n",
      "X -> Y;\n",
      "}\n",
      "\n"
     ]
    },
    {
     "data": {
      "text/html": [
       "<a href=\"data/output/images/0800_0101_rank_same.svg\" target=\"blank\"><h4>rank same</h4></a>\n",
       "<img src=\"data/output/images/0800_0101_rank_same.svg\" style=\"max-width: 100%\" />"
      ],
      "text/plain": [
       "<IPython.core.display.HTML object>"
      ]
     },
     "execution_count": 1,
     "metadata": {},
     "output_type": "execute_result"
    }
   ],
   "source": [
    "from my_happy_graphviz import pydot\n",
    "from my_happy_jupyter_utils import (\n",
    "    image_utils\n",
    ")\n",
    "\n",
    "\n",
    "G = pydot.Dot(graph_type='digraph')\n",
    "\n",
    "sub_g = pydot.Subgraph('', rank='same')\n",
    "\n",
    "sub_g.add_node('A')\n",
    "sub_g.add_node('X')\n",
    "\n",
    "\n",
    "G.add_node('C')\n",
    "\n",
    "G.add_subgraph(sub_g)\n",
    "\n",
    "sub_g = pydot.Subgraph('', rank='same')\n",
    "sub_g.add_node('B')\n",
    "sub_g.add_node('D')\n",
    "sub_g.add_node('Y')\n",
    "\n",
    "G.add_subgraph(sub_g)\n",
    "\n",
    "G.add_edge_str('A', 'B')\n",
    "G.add_edge_str('A', 'C')\n",
    "G.add_edge_str('C', 'D')\n",
    "G.add_edge_str('X', 'Y')\n",
    "\n",
    "print(G.to_string())\n",
    "\n",
    "file_name = '/'.join([\n",
    "    'data/output/images',\n",
    "    '0800_0101_rank_same.svg'\n",
    "])\n",
    "\n",
    "G.draw(file_name)\n",
    "\n",
    "image_utils.show_image_with_title_by_url({\n",
    "    'file_path': file_name,\n",
    "    'title': 'rank same',\n",
    "})"
   ]
  },
  {
   "cell_type": "code",
   "execution_count": null,
   "metadata": {},
   "outputs": [],
   "source": []
  }
 ],
 "metadata": {
  "kernelspec": {
   "display_name": "Python 3",
   "language": "python",
   "name": "python3"
  },
  "language_info": {
   "codemirror_mode": {
    "name": "ipython",
    "version": 3
   },
   "file_extension": ".py",
   "mimetype": "text/x-python",
   "name": "python",
   "nbconvert_exporter": "python",
   "pygments_lexer": "ipython3",
   "version": "3.7.7"
  }
 },
 "nbformat": 4,
 "nbformat_minor": 4
}
