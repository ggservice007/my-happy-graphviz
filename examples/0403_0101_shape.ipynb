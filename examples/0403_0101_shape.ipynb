{
 "cells": [
  {
   "cell_type": "markdown",
   "metadata": {},
   "source": [
    "# shape"
   ]
  },
  {
   "cell_type": "markdown",
   "metadata": {},
   "source": [
    "## circle"
   ]
  },
  {
   "cell_type": "code",
   "execution_count": 1,
   "metadata": {},
   "outputs": [
    {
     "name": "stdout",
     "output_type": "stream",
     "text": [
      "digraph G {\n",
      "rankdir=LR;\n",
      "size=\"8, 5\";\n",
      "node [shape=doublecircle];\n",
      "LR_0;\n",
      "LR_3;\n",
      "LR_4;\n",
      "LR_8;\n",
      "node [shape=circle];\n",
      "LR_0 -> LR_2  [label=\"SS(B)\"];\n",
      "LR_0 -> LR_1  [label=\"SS(S)\"];\n",
      "LR_1 -> LR_3  [label=\"S($end)\"];\n",
      "LR_2 -> LR_6  [label=\"SS(b)\"];\n",
      "LR_2 -> LR_5  [label=\"SS(a)\"];\n",
      "LR_2 -> LR_4  [label=\"S(A)\"];\n",
      "LR_5 -> LR_7  [label=\"S(b)\"];\n",
      "LR_5 -> LR_5  [label=\"S(a)\"];\n",
      "LR_6 -> LR_6  [label=\"S(b)\"];\n",
      "LR_6 -> LR_5  [label=\"S(a)\"];\n",
      "LR_7 -> LR_8  [label=\"S(b)\"];\n",
      "LR_7 -> LR_5  [label=\"S(a)\"];\n",
      "LR_8 -> LR_6  [label=\"S(b)\"];\n",
      "LR_8 -> LR_5  [label=\"S(a)\"];\n",
      "}\n",
      "\n"
     ]
    },
    {
     "data": {
      "text/html": [
       "<a href=\"data/output/images/0403_0101_circle.svg\" target=\"blank\"><h4>circle</h4></a>\n",
       "<img src=\"data/output/images/0403_0101_circle.svg\" style=\"max-width: 100%\" />"
      ],
      "text/plain": [
       "<IPython.core.display.HTML object>"
      ]
     },
     "execution_count": 1,
     "metadata": {},
     "output_type": "execute_result"
    }
   ],
   "source": [
    "from my_happy_graphviz import pydot\n",
    "from my_happy_jupyter_utils import (\n",
    "    image_utils\n",
    ")\n",
    "\n",
    "\n",
    "G = pydot.Dot(graph_type='digraph', rankdir='LR', size='8, 5')\n",
    "\n",
    "G.set_node_defaults(shape='doublecircle')\n",
    "\n",
    "G.add_node('LR_0')\n",
    "G.add_node('LR_3')\n",
    "G.add_node('LR_4')\n",
    "G.add_node('LR_8')\n",
    "\n",
    "G.set_node_defaults(shape='circle')\n",
    "\n",
    "\n",
    "\n",
    "G.add_edge(pydot.Edge('LR_0', 'LR_2', label='SS(B)'))\n",
    "G.add_edge(pydot.Edge('LR_0', 'LR_1', label='SS(S)'))\n",
    "G.add_edge(pydot.Edge('LR_1', 'LR_3', label='S($end)'))\n",
    "G.add_edge(pydot.Edge('LR_2', 'LR_6', label='SS(b)'))\n",
    "G.add_edge(pydot.Edge('LR_2', 'LR_5', label='SS(a)'))\n",
    "G.add_edge(pydot.Edge('LR_2', 'LR_4', label='S(A)'))\n",
    "G.add_edge(pydot.Edge('LR_5', 'LR_7', label='S(b)'))\n",
    "G.add_edge(pydot.Edge('LR_5', 'LR_5', label='S(a)'))\n",
    "G.add_edge(pydot.Edge('LR_6', 'LR_6', label='S(b)'))\n",
    "G.add_edge(pydot.Edge('LR_6', 'LR_5', label='S(a)'))\n",
    "G.add_edge(pydot.Edge('LR_7', 'LR_8', label='S(b)'))\n",
    "G.add_edge(pydot.Edge('LR_7', 'LR_5', label='S(a)'))\n",
    "G.add_edge(pydot.Edge('LR_8', 'LR_6', label='S(b)'))\n",
    "G.add_edge(pydot.Edge('LR_8', 'LR_5', label='S(a)'))\n",
    "\n",
    "\n",
    "\n",
    "print(G.to_string())\n",
    "\n",
    "file_name = '/'.join([\n",
    "    'data/output/images',\n",
    "    '0403_0101_circle.svg'\n",
    "])\n",
    "\n",
    "G.draw(file_name)\n",
    "\n",
    "image_utils.show_image_with_title_by_url({\n",
    "    'file_path': file_name,\n",
    "    'title': 'circle',\n",
    "})"
   ]
  },
  {
   "cell_type": "code",
   "execution_count": null,
   "metadata": {},
   "outputs": [],
   "source": []
  }
 ],
 "metadata": {
  "kernelspec": {
   "display_name": "Python 3",
   "language": "python",
   "name": "python3"
  },
  "language_info": {
   "codemirror_mode": {
    "name": "ipython",
    "version": 3
   },
   "file_extension": ".py",
   "mimetype": "text/x-python",
   "name": "python",
   "nbconvert_exporter": "python",
   "pygments_lexer": "ipython3",
   "version": "3.7.7"
  }
 },
 "nbformat": 4,
 "nbformat_minor": 4
}
