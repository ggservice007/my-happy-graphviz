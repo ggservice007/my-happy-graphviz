{
 "cells": [
  {
   "cell_type": "markdown",
   "metadata": {},
   "source": [
    "# fdp"
   ]
  },
  {
   "cell_type": "markdown",
   "metadata": {},
   "source": [
    "## process"
   ]
  },
  {
   "cell_type": "code",
   "execution_count": 1,
   "metadata": {},
   "outputs": [
    {
     "name": "stdout",
     "output_type": "stream",
     "text": [
      "graph G {\n",
      "run -- intr;\n",
      "intr -- runbl;\n",
      "runbl -- run;\n",
      "run -- kernel;\n",
      "kernel -- zombie;\n",
      "kernel -- sleep;\n",
      "kernel -- runmem;\n",
      "sleep -- swap;\n",
      "swap -- runswap;\n",
      "runswap -- new;\n",
      "runswap -- runmem;\n",
      "new -- runmem;\n",
      "sleep -- runmem;\n",
      "}\n",
      "\n"
     ]
    },
    {
     "data": {
      "text/html": [
       "<a href=\"data/output/images/0701_0101_process.svg\" target=\"blank\"><h4>process</h4></a>\n",
       "<img src=\"data/output/images/0701_0101_process.svg\" style=\"max-width: 100%\" />"
      ],
      "text/plain": [
       "<IPython.core.display.HTML object>"
      ]
     },
     "execution_count": 1,
     "metadata": {},
     "output_type": "execute_result"
    }
   ],
   "source": [
    "from my_happy_graphviz import pydot\n",
    "from my_happy_jupyter_utils import (\n",
    "    image_utils\n",
    ")\n",
    "\n",
    "\n",
    "G = pydot.Dot(graph_type='graph')\n",
    "\n",
    "G.add_edge_str('run', 'intr')\n",
    "G.add_edge_str('intr', 'runbl')\n",
    "G.add_edge_str('runbl', 'run')\n",
    "G.add_edge_str('run', 'kernel')\n",
    "G.add_edge_str('kernel', 'zombie')\n",
    "G.add_edge_str('kernel', 'sleep')\n",
    "G.add_edge_str('kernel', 'runmem')\n",
    "G.add_edge_str('sleep', 'swap')\n",
    "G.add_edge_str('swap', 'runswap')\n",
    "G.add_edge_str('runswap', 'new')\n",
    "G.add_edge_str('runswap', 'runmem')\n",
    "G.add_edge_str('new', 'runmem')\n",
    "G.add_edge_str('sleep', 'runmem')\n",
    "\n",
    "\n",
    "\n",
    "print(G.to_string())\n",
    "\n",
    "file_name = '/'.join([\n",
    "    'data/output/images',\n",
    "    '0701_0101_process.svg'\n",
    "])\n",
    "\n",
    "G.draw(file_name, prog='fdp')\n",
    "\n",
    "image_utils.show_image_with_title_by_url({\n",
    "    'file_path': file_name,\n",
    "    'title': 'process',\n",
    "})"
   ]
  },
  {
   "cell_type": "code",
   "execution_count": null,
   "metadata": {},
   "outputs": [],
   "source": []
  },
  {
   "cell_type": "code",
   "execution_count": null,
   "metadata": {},
   "outputs": [],
   "source": []
  }
 ],
 "metadata": {
  "kernelspec": {
   "display_name": "Python 3",
   "language": "python",
   "name": "python3"
  },
  "language_info": {
   "codemirror_mode": {
    "name": "ipython",
    "version": 3
   },
   "file_extension": ".py",
   "mimetype": "text/x-python",
   "name": "python",
   "nbconvert_exporter": "python",
   "pygments_lexer": "ipython3",
   "version": "3.7.7"
  }
 },
 "nbformat": 4,
 "nbformat_minor": 4
}
