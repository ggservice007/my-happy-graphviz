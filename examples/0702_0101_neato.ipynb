{
 "cells": [
  {
   "cell_type": "markdown",
   "metadata": {},
   "source": [
    "# neato"
   ]
  },
  {
   "cell_type": "markdown",
   "metadata": {},
   "source": [
    "## er"
   ]
  },
  {
   "cell_type": "code",
   "execution_count": 1,
   "metadata": {},
   "outputs": [
    {
     "name": "stdout",
     "output_type": "stream",
     "text": [
      "graph G {\n",
      "fontsize=20;\n",
      "label=\"\\n\\nEntity Relation Diagram\\ndrawn by NEATO\";\n",
      "node [shape=box];\n",
      "course;\n",
      "institute;\n",
      "student;\n",
      "node [shape=ellipse];\n",
      "name0 [shape=name];\n",
      "name1 [shape=name];\n",
      "name2 [shape=name];\n",
      "code;\n",
      "grade;\n",
      "number;\n",
      "node [color=lightgrey, shape=diamond, style=filled];\n",
      "\"C-I\";\n",
      "\"S-C\";\n",
      "\"S-I\";\n",
      "name0 -- course;\n",
      "code -- course;\n",
      "course -- \"C-I\"  [label=n, len=\"1.00\"];\n",
      "\"C-I\" -- institute  [label=1, len=\"1.00\"];\n",
      "institute -- name1;\n",
      "institute -- \"S-I\"  [label=1, len=\"1.00\"];\n",
      "\"S-I\" -- student  [label=n, len=\"1.00\"];\n",
      "student -- grade;\n",
      "student -- name2;\n",
      "student -- number;\n",
      "student -- \"S-C\"  [label=m, len=\"1.00\"];\n",
      "\"S-C\" -- course  [label=n, len=\"1.00\"];\n",
      "}\n",
      "\n"
     ]
    },
    {
     "data": {
      "text/html": [
       "<img src=\"data/output/images/0702_0101_neato.svg\" style=\"max-width: 100%\" />"
      ],
      "text/plain": [
       "<IPython.core.display.HTML object>"
      ]
     },
     "execution_count": 1,
     "metadata": {},
     "output_type": "execute_result"
    }
   ],
   "source": [
    "from my_happy_graphviz import pydot\n",
    "from my_happy_jupyter_utils import (\n",
    "    image_utils\n",
    ")\n",
    "\n",
    "\n",
    "G = pydot.Dot(graph_type='graph')\n",
    "\n",
    "G.set_node_defaults(shape='box')\n",
    "G.add_node('course')\n",
    "G.add_node('institute')\n",
    "G.add_node('student')\n",
    "\n",
    "\n",
    "G.set_node_defaults(shape='ellipse')\n",
    "G.make_node('name0', 'name')\n",
    "G.make_node('name1', 'name')\n",
    "G.make_node('name2', 'name')\n",
    "\n",
    "G.add_node('code')\n",
    "G.add_node('grade')\n",
    "G.add_node('number')\n",
    "\n",
    "G.set_node_defaults(shape='diamond', style='filled', color='lightgrey')\n",
    "G.add_node('C-I')\n",
    "G.add_node('S-C')\n",
    "G.add_node('S-I')\n",
    "\n",
    "\n",
    "G.add_edge_str('name0', 'course')\n",
    "G.add_edge_str('code', 'course')\n",
    "G.add_edge(pydot.Edge('course', 'C-I', label='n', len='1.00'))\n",
    "G.add_edge(pydot.Edge('C-I', 'institute', label='1', len='1.00'))\n",
    "G.add_edge(pydot.Edge('institute', 'name1'))\n",
    "G.add_edge(pydot.Edge('institute', 'S-I', label='1', len='1.00'))\n",
    "G.add_edge(pydot.Edge('S-I', 'student', label='n', len='1.00'))\n",
    "G.add_edge(pydot.Edge('student', 'grade'))\n",
    "G.add_edge(pydot.Edge('student', 'name2'))\n",
    "G.add_edge(pydot.Edge('student', 'number'))\n",
    "G.add_edge(pydot.Edge('student', 'S-C', label='m', len='1.00'))\n",
    "G.add_edge(pydot.Edge('S-C', 'course', label='n', len='1.00'))\n",
    "\n",
    "G.set_label(r'\\n\\nEntity Relation Diagram\\ndrawn by NEATO')\n",
    "G.set_fontsize(20)\n",
    "\n",
    "print(G.to_string())\n",
    "\n",
    "file_name = '/'.join([\n",
    "    'data/output/images',\n",
    "    '0702_0101_neato.svg'\n",
    "])\n",
    "\n",
    "G.draw(file_name, prog='neato')\n",
    "\n",
    "image_utils.show_image_with_title_by_url({\n",
    "    'file_path': file_name,\n",
    "    'title': '',\n",
    "})"
   ]
  },
  {
   "cell_type": "code",
   "execution_count": null,
   "metadata": {},
   "outputs": [],
   "source": []
  }
 ],
 "metadata": {
  "kernelspec": {
   "display_name": "Python 3",
   "language": "python",
   "name": "python3"
  },
  "language_info": {
   "codemirror_mode": {
    "name": "ipython",
    "version": 3
   },
   "file_extension": ".py",
   "mimetype": "text/x-python",
   "name": "python",
   "nbconvert_exporter": "python",
   "pygments_lexer": "ipython3",
   "version": "3.7.7"
  }
 },
 "nbformat": 4,
 "nbformat_minor": 4
}
