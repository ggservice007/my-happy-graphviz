{
 "cells": [
  {
   "cell_type": "markdown",
   "metadata": {},
   "source": [
    "# prog"
   ]
  },
  {
   "cell_type": "markdown",
   "metadata": {},
   "source": [
    "## neato"
   ]
  },
  {
   "cell_type": "code",
   "execution_count": 1,
   "metadata": {},
   "outputs": [
    {
     "name": "stdout",
     "output_type": "stream",
     "text": [
      "digraph G {\n",
      "fontsize=12;\n",
      "label=\"PetriNet Model TrafficLights\\nExtracted from ConceptBase and layed out by Graphviz\";\n",
      "overlap=False;\n",
      "node [shape=box];\n",
      "gy2;\n",
      "yr2;\n",
      "rg2;\n",
      "gy1;\n",
      "yr1;\n",
      "rg1;\n",
      "node [fixedsize=true, shape=circle, width=0.9];\n",
      "green2;\n",
      "yellow2;\n",
      "red2;\n",
      "safe2;\n",
      "green1;\n",
      "yellow1;\n",
      "red1;\n",
      "safe1;\n",
      "gy2 -> yellow2;\n",
      "rg2 -> green2;\n",
      "yr2 -> safe1;\n",
      "yr2 -> red2;\n",
      "safe2 -> rg2;\n",
      "green2 -> gy2;\n",
      "yellow2 -> yr2;\n",
      "red2 -> rg2;\n",
      "gy1 -> yellow1;\n",
      "rg1 -> green1;\n",
      "yr1 -> safe2;\n",
      "yr1 -> red1;\n",
      "safe1 -> rg1;\n",
      "green1 -> gy1;\n",
      "yellow1 -> yr1;\n",
      "red1 -> rg1;\n",
      "}\n",
      "\n"
     ]
    },
    {
     "data": {
      "text/html": [
       "<a href=\"data/output/images/0700_0101_neato.svg\" target=\"blank\"><h4>neato</h4></a>\n",
       "<img src=\"data/output/images/0700_0101_neato.svg\" style=\"max-width: 100%\" />"
      ],
      "text/plain": [
       "<IPython.core.display.HTML object>"
      ]
     },
     "execution_count": 1,
     "metadata": {},
     "output_type": "execute_result"
    }
   ],
   "source": [
    "from my_happy_graphviz import pydot\n",
    "from my_happy_jupyter_utils import (\n",
    "    image_utils\n",
    ")\n",
    "\n",
    "\n",
    "G = pydot.Dot(graph_type='digraph')\n",
    "\n",
    "G.set_node_defaults(shape='box')\n",
    "for i in (2, 1):\n",
    "    G.add_node('gy%d' % i)\n",
    "    G.add_node('yr%d' % i)\n",
    "    G.add_node('rg%d' % i)\n",
    "    \n",
    "\n",
    "G.set_node_defaults(shape='circle', fixedsize='true', width=0.9)\n",
    "for i in (2, 1):\n",
    "    G.add_node('green%d' % i)\n",
    "    G.add_node('yellow%d' % i)\n",
    "    G.add_node('red%d' % i)\n",
    "    G.add_node('safe%d' % i)\n",
    "    \n",
    "    \n",
    "\n",
    "for i, j in [(2, 1), (1, 2)]:\n",
    "    G.add_edge_str('gy%d' % i, 'yellow%d' % i)\n",
    "    G.add_edge_str('rg%d' % i, 'green%d' % i)\n",
    "    G.add_edge_str('yr%d' % i, 'safe%d' % j)\n",
    "    G.add_edge_str('yr%d' % i, 'red%d' % i)\n",
    "    G.add_edge_str('safe%d' % i, 'rg%d' % i)\n",
    "    G.add_edge_str('green%d' % i, 'gy%d' % i)\n",
    "    G.add_edge_str('yellow%d' % i, 'yr%d' % i)\n",
    "    G.add_edge_str('red%d' % i, 'rg%d' % i)\n",
    "    \n",
    "\n",
    "G.set_overlap(False)\n",
    "G.set_label(\n",
    "    r'PetriNet Model TrafficLights\\n'\n",
    "    r'Extracted from ConceptBase and layed out by Graphviz'\n",
    ")\n",
    "G.set_fontsize(12)\n",
    "\n",
    "\n",
    "print(G.to_string())\n",
    "\n",
    "file_name = '/'.join([\n",
    "    'data/output/images',\n",
    "    '0700_0101_neato.svg'\n",
    "])\n",
    "\n",
    "\n",
    "\n",
    "G.draw(file_name, prog='neato')\n",
    "\n",
    "image_utils.show_image_with_title_by_url({\n",
    "    'file_path': file_name,\n",
    "    'title': 'neato',\n",
    "})"
   ]
  },
  {
   "cell_type": "code",
   "execution_count": 2,
   "metadata": {},
   "outputs": [
    {
     "data": {
      "text/html": [
       "<a href=\"data/output/images/0700_0102_dot.svg\" target=\"blank\"><h4>dot</h4></a>\n",
       "<img src=\"data/output/images/0700_0102_dot.svg\" style=\"max-width: 100%\" />"
      ],
      "text/plain": [
       "<IPython.core.display.HTML object>"
      ]
     },
     "execution_count": 2,
     "metadata": {},
     "output_type": "execute_result"
    }
   ],
   "source": [
    "file_name = '/'.join([\n",
    "    'data/output/images',\n",
    "    '0700_0102_dot.svg'\n",
    "])\n",
    "\n",
    "\n",
    "\n",
    "G.draw(file_name, prog='dot')\n",
    "\n",
    "image_utils.show_image_with_title_by_url({\n",
    "    'file_path': file_name,\n",
    "    'title': 'dot',\n",
    "})"
   ]
  },
  {
   "cell_type": "markdown",
   "metadata": {},
   "source": [
    "## fdp"
   ]
  },
  {
   "cell_type": "code",
   "execution_count": 3,
   "metadata": {},
   "outputs": [
    {
     "name": "stdout",
     "output_type": "stream",
     "text": [
      "graph G {\n",
      "e;\n",
      "subgraph clusterA {\n",
      "a -- b;\n",
      "subgraph clusterC {\n",
      "C -- D;\n",
      "}\n",
      "\n",
      "}\n",
      "\n",
      "subgraph clusterB {\n",
      "d -- f;\n",
      "}\n",
      "\n",
      "d -- D;\n",
      "e -- clusterB;\n",
      "clusterC -- clusterB;\n",
      "}\n",
      "\n"
     ]
    },
    {
     "data": {
      "text/html": [
       "<img src=\"data/output/images/0700_0201_fdp.svg\" style=\"max-width: 100%\" />"
      ],
      "text/plain": [
       "<IPython.core.display.HTML object>"
      ]
     },
     "execution_count": 3,
     "metadata": {},
     "output_type": "execute_result"
    }
   ],
   "source": [
    "from my_happy_graphviz import pydot\n",
    "from my_happy_jupyter_utils import (\n",
    "    image_utils\n",
    ")\n",
    "\n",
    "\n",
    "G = pydot.Dot(graph_type='graph')\n",
    "\n",
    "G.add_node('e')\n",
    "\n",
    "sub_g = pydot.Subgraph('clusterA')\n",
    "sub_g.add_edge_str('a', 'b')\n",
    "\n",
    "sub_g_g = pydot.Subgraph('clusterC')\n",
    "sub_g_g.add_edge_str('C', 'D')\n",
    "\n",
    "sub_g.add_subgraph(sub_g_g)\n",
    "\n",
    "G.add_subgraph(sub_g)\n",
    "\n",
    "sub_g = pydot.Subgraph('clusterB')\n",
    "sub_g.add_edge_str('d', 'f')\n",
    "G.add_subgraph(sub_g)\n",
    "\n",
    "G.add_edge_str('d', 'D')\n",
    "\n",
    "G.add_edge_str('e', 'clusterB')\n",
    "\n",
    "G.add_edge_str('clusterC', 'clusterB')\n",
    "\n",
    "\n",
    "\n",
    "print(G.to_string())\n",
    "\n",
    "file_name = '/'.join([\n",
    "    'data/output/images',\n",
    "    '0700_0201_fdp.svg'\n",
    "])\n",
    "\n",
    "G.draw(file_name, prog='fdp')\n",
    "\n",
    "image_utils.show_image_with_title_by_url({\n",
    "    'file_path': file_name,\n",
    "    'title': '',\n",
    "})"
   ]
  },
  {
   "cell_type": "markdown",
   "metadata": {},
   "source": []
  }
 ],
 "metadata": {
  "kernelspec": {
   "display_name": "Python 3",
   "language": "python",
   "name": "python3"
  },
  "language_info": {
   "codemirror_mode": {
    "name": "ipython",
    "version": 3
   },
   "file_extension": ".py",
   "mimetype": "text/x-python",
   "name": "python",
   "nbconvert_exporter": "python",
   "pygments_lexer": "ipython3",
   "version": "3.7.7"
  }
 },
 "nbformat": 4,
 "nbformat_minor": 4
}
