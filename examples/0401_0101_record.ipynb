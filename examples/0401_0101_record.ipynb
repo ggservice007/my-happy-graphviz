{
 "cells": [
  {
   "cell_type": "markdown",
   "metadata": {},
   "source": [
    "# record"
   ]
  },
  {
   "cell_type": "markdown",
   "metadata": {},
   "source": [
    "## btree"
   ]
  },
  {
   "cell_type": "code",
   "execution_count": 6,
   "metadata": {},
   "outputs": [
    {
     "name": "stdout",
     "output_type": "stream",
     "text": [
      "digraph G {\n",
      "node [height=0.1, shape=record];\n",
      "node0 [label=\"|G|\"];\n",
      "node1 [label=\"|E|\"];\n",
      "node2 [label=\"|B|\"];\n",
      "node3 [label=\"|F|\"];\n",
      "node4 [label=\"|R|\"];\n",
      "node5 [label=\"|H|\"];\n",
      "node6 [label=\"|Y|\"];\n",
      "node7 [label=\"|A|\"];\n",
      "node8 [label=\"|C|\"];\n",
      "node0 -> node4;\n",
      "node0 -> node1;\n",
      "node1 -> node2;\n",
      "node1 -> node3;\n",
      "node2 -> node8;\n",
      "node2 -> node7;\n",
      "node4 -> node6;\n",
      "node4 -> node5;\n",
      "}\n",
      "\n"
     ]
    },
    {
     "data": {
      "text/html": [
       "<a href=\"data/output/images/0401_0101_btree.svg\" target=\"blank\"><h4>btree</h4></a>\n",
       "<img src=\"data/output/images/0401_0101_btree.svg\" style=\"max-width: 100%\" />"
      ],
      "text/plain": [
       "<IPython.core.display.HTML object>"
      ]
     },
     "execution_count": 6,
     "metadata": {},
     "output_type": "execute_result"
    }
   ],
   "source": [
    "from my_happy_graphviz import pydot\n",
    "from my_happy_jupyter_utils import (\n",
    "    image_utils\n",
    ")\n",
    "\n",
    "\n",
    "G = pydot.Dot(graph_type='digraph')\n",
    "\n",
    "G.set_node_defaults(shape='record', height=0.1)\n",
    "\n",
    "G.add_node(pydot.Node('node0', label='|G|'))\n",
    "G.add_node(pydot.Node('node1', label='|E|'))\n",
    "G.add_node(pydot.Node('node2', label='|B|'))\n",
    "G.add_node(pydot.Node('node3', label='|F|'))\n",
    "G.add_node(pydot.Node('node4', label='|R|'))\n",
    "G.add_node(pydot.Node('node5', label='|H|'))\n",
    "G.add_node(pydot.Node('node6', label='|Y|'))\n",
    "G.add_node(pydot.Node('node7', label='|A|'))\n",
    "G.add_node(pydot.Node('node8', label='|C|'))\n",
    "\n",
    "\n",
    "G.add_edge_str('node0', 'node4')\n",
    "G.add_edge_str('node0', 'node1')\n",
    "G.add_edge_str('node1', 'node2')\n",
    "G.add_edge_str('node1', 'node3')\n",
    "G.add_edge_str('node2', 'node8')\n",
    "G.add_edge_str('node2', 'node7')\n",
    "G.add_edge_str('node4', 'node6')\n",
    "G.add_edge_str('node4', 'node5')\n",
    "\n",
    "\n",
    "print(G.to_string())\n",
    "\n",
    "file_name = '/'.join([\n",
    "    'data/output/images',\n",
    "    '0401_0101_btree.svg'\n",
    "])\n",
    "\n",
    "G.draw(file_name)\n",
    "\n",
    "image_utils.show_image_with_title_by_url({\n",
    "    'file_path': file_name,\n",
    "    'title': 'btree'\n",
    "})"
   ]
  },
  {
   "cell_type": "code",
   "execution_count": null,
   "metadata": {},
   "outputs": [],
   "source": []
  }
 ],
 "metadata": {
  "kernelspec": {
   "display_name": "Python 3",
   "language": "python",
   "name": "python3"
  },
  "language_info": {
   "codemirror_mode": {
    "name": "ipython",
    "version": 3
   },
   "file_extension": ".py",
   "mimetype": "text/x-python",
   "name": "python",
   "nbconvert_exporter": "python",
   "pygments_lexer": "ipython3",
   "version": "3.7.7"
  }
 },
 "nbformat": 4,
 "nbformat_minor": 4
}
