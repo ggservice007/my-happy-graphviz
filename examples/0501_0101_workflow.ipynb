{
 "cells": [
  {
   "cell_type": "markdown",
   "metadata": {},
   "source": [
    "# workflow"
   ]
  },
  {
   "cell_type": "markdown",
   "metadata": {},
   "source": [
    "## LungStage Workflow"
   ]
  },
  {
   "cell_type": "code",
   "execution_count": 1,
   "metadata": {},
   "outputs": [
    {
     "name": "stdout",
     "output_type": "stream",
     "text": [
      "digraph G {\n",
      "overlap=False;\n",
      "rankdir=UD;\n",
      "\"Patient\\n(Suspicious)\" [shape=tab];\n",
      "\"Chest CT\" [shape=box3d];\n",
      "\"PET/CT\" [shape=box3d];\n",
      "\"General\\nPractioner\" [shape=box];\n",
      "\"Staging\\n(Radiologist &\\nNuclear Medicine)\" [shape=box];\n",
      "\"Bronchoscopy /\\n Mediastioscopy/ \\nPathology\" [shape=box];\n",
      "Diagnosis [shape=trapezium];\n",
      "\"Tumor Board\" [shape=component];\n",
      "Therapy [shape=cds];\n",
      "\"General\\nPractioner\" -> \"Chest CT\"  [label=\"Initial\\nAssessment\", penwidth=1, style=solid];\n",
      "\"Patient\\n(Suspicious)\" -> \"General\\nPractioner\"  [label=\"Coughing\\nBlood\", penwidth=1, style=solid];\n",
      "\"Chest CT\" -> \"General\\nPractioner\"  [label=\"Nothing\\nFound\", penwidth=1, style=dashed];\n",
      "\"Chest CT\" -> \"PET/CT\"  [label=\"Suspicious\\nFindings\", penwidth=1, style=solid];\n",
      "\"PET/CT\" -> \"Staging\\n(Radiologist &\\nNuclear Medicine)\"  [penwidth=1, style=solid];\n",
      "\"Staging\\n(Radiologist &\\nNuclear Medicine)\" -> \"Bronchoscopy /\\n Mediastioscopy/ \\nPathology\"  [penwidth=1, style=solid];\n",
      "\"Staging\\n(Radiologist &\\nNuclear Medicine)\" -> \"General\\nPractioner\"  [label=\"Nothing\\nFound\", penwidth=1, style=dashed];\n",
      "\"Bronchoscopy /\\n Mediastioscopy/ \\nPathology\" -> Diagnosis  [penwidth=1, style=solid];\n",
      "\"Staging\\n(Radiologist &\\nNuclear Medicine)\" -> \"Tumor Board\"  [color=blue, fontcolor=blue, fontsize=20, label=\"Prepare\\nReport\", penwidth=2.0, style=dashed];\n",
      "Diagnosis -> \"Tumor Board\"  [penwidth=1, style=solid];\n",
      "\"Tumor Board\" -> Therapy  [label=\"Thorasic Surgery\\n(Surgery)\", penwidth=1, style=solid];\n",
      "\"Tumor Board\" -> Therapy  [label=\"Chemotherapy\\n(Oncology)\", penwidth=1, style=solid];\n",
      "\"Tumor Board\" -> Therapy  [label=\"Pallative\\nCare\\n(Oncology)\", penwidth=1, style=dashed];\n",
      "Therapy -> \"Chest CT\"  [label=\"Follow-up\", penwidth=1, style=solid];\n",
      "Therapy -> \"PET/CT\"  [label=\"Follow-up\", penwidth=1, style=solid];\n",
      "}\n",
      "\n"
     ]
    },
    {
     "data": {
      "text/html": [
       "<a href=\"data/output/images/0501_0101_workflow_lung_stage.svg\" target=\"blank\"><h4>LungStage Workflow</h4></a>\n",
       "<img src=\"data/output/images/0501_0101_workflow_lung_stage.svg\" style=\"max-width: 100%\" />"
      ],
      "text/plain": [
       "<IPython.core.display.HTML object>"
      ]
     },
     "execution_count": 1,
     "metadata": {},
     "output_type": "execute_result"
    }
   ],
   "source": [
    "from my_happy_graphviz import pydot\n",
    "from my_happy_jupyter_utils import (\n",
    "    image_utils\n",
    ")\n",
    "\n",
    "\n",
    "\n",
    "G = pydot.Dot(graph_type='digraph')\n",
    "\n",
    "sd_node = G.make_node('Patient\\n(Suspicious)', 'tab')\n",
    "ct_node = G.make_node('Chest CT', 'box3d')\n",
    "pet_node = G.make_node('PET/CT', 'box3d')\n",
    "gp_node = G.make_node('General\\nPractioner', 'box')\n",
    "staging_node = G.make_node('Staging\\n(Radiologist &\\nNuclear Medicine)', 'box')\n",
    "brocho_node = G.make_node('Bronchoscopy /\\n Mediastioscopy/ \\nPathology', 'box')\n",
    "diag_node = G.make_node('Diagnosis', 'trapezium')\n",
    "tb_node = G.make_node('Tumor Board', 'component')\n",
    "\n",
    "therapy_node = G.make_node('Therapy', 'cds')\n",
    "\n",
    "\n",
    "G.make_link(gp_node, ct_node, 'Initial\\nAssessment')\n",
    "G.make_link(sd_node, gp_node, 'Coughing\\nBlood')\n",
    "\n",
    "G.make_link(ct_node, gp_node, 'Nothing\\nFound', style='dashed')\n",
    "G.make_link(ct_node, pet_node, 'Suspicious\\nFindings')\n",
    "\n",
    "G.make_link(pet_node, staging_node)\n",
    "\n",
    "G.make_link(staging_node, brocho_node)\n",
    "G.make_link(staging_node, gp_node, 'Nothing\\nFound', style='dashed')\n",
    "\n",
    "G.make_link(brocho_node, diag_node)\n",
    "\n",
    "st_link = G.make_link(staging_node, tb_node, 'Prepare\\nReport', style='thick')\n",
    "st_link.set_color('blue')\n",
    "st_link.set_fontcolor('blue')\n",
    "st_link.set_fontsize(20)\n",
    "st_link.set_penwidth(2.0)\n",
    "st_link.set_style('dashed')\n",
    "\n",
    "G.make_link(diag_node, tb_node)\n",
    "\n",
    "G.make_link(tb_node, therapy_node, 'Thorasic Surgery\\n(Surgery)')\n",
    "G.make_link(tb_node, therapy_node, 'Chemotherapy\\n(Oncology)')\n",
    "G.make_link(tb_node, therapy_node, 'Pallative\\nCare\\n(Oncology)', style='dashed')\n",
    "\n",
    "\n",
    "G.make_link(therapy_node, ct_node, 'Follow-up')\n",
    "G.make_link(therapy_node, pet_node, 'Follow-up')\n",
    "\n",
    "G.set_overlap(False)\n",
    "G.set_rankdir('UD')\n",
    "\n",
    "\n",
    "print(G.to_string())\n",
    "\n",
    "file_name = '/'.join([\n",
    "    'data/output/images',\n",
    "    '0501_0101_workflow_lung_stage.svg'\n",
    "])\n",
    "\n",
    "G.draw(file_name)\n",
    "\n",
    "image_utils.show_image_with_title_by_url({\n",
    "    'file_path': file_name,\n",
    "    'title': 'LungStage Workflow',\n",
    "})"
   ]
  },
  {
   "cell_type": "markdown",
   "metadata": {},
   "source": [
    "## component"
   ]
  },
  {
   "cell_type": "code",
   "execution_count": 2,
   "metadata": {},
   "outputs": [
    {
     "name": "stdout",
     "output_type": "stream",
     "text": [
      "digraph G {\n",
      "\"Tumor Board\" [shape=component];\n",
      "Therapy [shape=cds];\n",
      "Surgery [shape=octagon];\n",
      "Oncology [shape=octagon];\n",
      "\"Chest CT\" [shape=box3d];\n",
      "\"PET/CT\" [shape=box3d];\n",
      "\"Staging\\n(Radiologist &\\nNuclear Medicine)\" [shape=box];\n",
      "\"Tumor Board\" -> Therapy  [label=Treatment, penwidth=1, style=solid];\n",
      "Therapy -> Surgery  [label=\"Thorasic Surgery\", penwidth=1, style=solid];\n",
      "Therapy -> Oncology  [label=Chemotherapy, penwidth=1, style=solid];\n",
      "Therapy -> Oncology  [label=\"Palletive\\nCare\", penwidth=1, style=solid];\n",
      "Oncology -> Surgery  [label=\"Thorasic Surgery\", penwidth=1, style=dashed];\n",
      "Oncology -> \"Chest CT\"  [label=\"Follow-up\", penwidth=1, style=solid];\n",
      "Surgery -> \"Chest CT\"  [label=\"Follow-up\", penwidth=1, style=solid];\n",
      "\"Chest CT\" -> \"PET/CT\"  [label=\"More Detailed\\nImages\", penwidth=1, style=dashed];\n",
      "\"Chest CT\" -> \"Staging\\n(Radiologist &\\nNuclear Medicine)\"  [penwidth=1, style=solid];\n",
      "\"PET/CT\" -> \"Staging\\n(Radiologist &\\nNuclear Medicine)\"  [penwidth=1, style=solid];\n",
      "\"Staging\\n(Radiologist &\\nNuclear Medicine)\" -> \"Tumor Board\"  [penwidth=1, style=solid];\n",
      "}\n",
      "\n"
     ]
    },
    {
     "data": {
      "text/html": [
       "<a href=\"data/output/images/0501_0201_workflow_component.svg\" target=\"blank\"><h4>workflow component</h4></a>\n",
       "<img src=\"data/output/images/0501_0201_workflow_component.svg\" style=\"max-width: 100%\" />"
      ],
      "text/plain": [
       "<IPython.core.display.HTML object>"
      ]
     },
     "execution_count": 2,
     "metadata": {},
     "output_type": "execute_result"
    }
   ],
   "source": [
    "from my_happy_graphviz import pydot\n",
    "from my_happy_jupyter_utils import (\n",
    "    image_utils\n",
    ")\n",
    "\n",
    "\n",
    "G = pydot.Dot(graph_type='digraph')\n",
    "\n",
    "tb_node = G.make_node('Tumor Board', 'component')\n",
    "therapy_node = G.make_node('Therapy', 'cds')\n",
    "\n",
    "surg_node = G.make_node('Surgery', 'octagon')\n",
    "onco_node = G.make_node('Oncology', 'octagon')\n",
    "\n",
    "ct_node = G.make_node('Chest CT', 'box3d')\n",
    "pet_node = G.make_node('PET/CT', 'box3d')\n",
    "staging_node = G.make_node('Staging\\n(Radiologist &\\nNuclear Medicine)', 'box')\n",
    "\n",
    "\n",
    "G.make_link(tb_node, therapy_node, 'Treatment')\n",
    "G.make_link(therapy_node, surg_node, 'Thorasic Surgery')\n",
    "G.make_link(therapy_node, onco_node, 'Chemotherapy')\n",
    "G.make_link(therapy_node, onco_node, 'Palletive\\nCare')\n",
    "G.make_link(onco_node, surg_node, 'Thorasic Surgery', style='dashed')\n",
    "\n",
    "G.make_link(onco_node, ct_node, 'Follow-up')\n",
    "G.make_link(surg_node, ct_node, 'Follow-up')\n",
    "G.make_link(ct_node, pet_node, 'More Detailed\\nImages', style='dashed')\n",
    "\n",
    "G.make_link(ct_node, staging_node)\n",
    "G.make_link(pet_node, staging_node)\n",
    "G.make_link(staging_node, tb_node)\n",
    "\n",
    "\n",
    "\n",
    "\n",
    "\n",
    "print(G.to_string())\n",
    "\n",
    "file_name = '/'.join([\n",
    "    'data/output/images',\n",
    "    '0501_0201_workflow_component.svg'\n",
    "])\n",
    "\n",
    "G.draw(file_name)\n",
    "\n",
    "image_utils.show_image_with_title_by_url({\n",
    "    'file_path': file_name,\n",
    "    'title': 'workflow component',\n",
    "})"
   ]
  },
  {
   "cell_type": "code",
   "execution_count": null,
   "metadata": {},
   "outputs": [],
   "source": []
  }
 ],
 "metadata": {
  "kernelspec": {
   "display_name": "Python 3",
   "language": "python",
   "name": "python3"
  },
  "language_info": {
   "codemirror_mode": {
    "name": "ipython",
    "version": 3
   },
   "file_extension": ".py",
   "mimetype": "text/x-python",
   "name": "python",
   "nbconvert_exporter": "python",
   "pygments_lexer": "ipython3",
   "version": "3.7.7"
  }
 },
 "nbformat": 4,
 "nbformat_minor": 4
}
