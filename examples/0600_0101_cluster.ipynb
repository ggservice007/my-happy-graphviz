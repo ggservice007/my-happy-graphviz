{
 "cells": [
  {
   "cell_type": "markdown",
   "metadata": {},
   "source": [
    "# cluster"
   ]
  },
  {
   "cell_type": "code",
   "execution_count": 1,
   "metadata": {},
   "outputs": [
    {
     "name": "stdout",
     "output_type": "stream",
     "text": [
      "digraph G {\n",
      "subgraph cluster_foo {\n",
      "label=foo;\n",
      "foo_method_1 [label=method_1];\n",
      "foo_method_2 [label=method_2];\n",
      "foo_method_3 [label=method_3];\n",
      "}\n",
      "\n",
      "subgraph cluster_bar {\n",
      "bar_method_a;\n",
      "bar_method_b;\n",
      "bar_method_c;\n",
      "}\n",
      "\n",
      "subgraph cluster_baz {\n",
      "baz_method_1;\n",
      "baz_method_b;\n",
      "baz_method_3;\n",
      "baz_method_c;\n",
      "}\n",
      "\n",
      "main -> sub;\n",
      "bar_method_a -> bar_method_c;\n",
      "bar_method_a -> foo_method_2;\n",
      "foo_method_2 -> baz_method_3;\n",
      "bar_method_b -> foo_method_1;\n",
      "bar_method_b -> foo_method_2;\n",
      "bar_method_b -> baz_method_1;\n",
      "foo_method_2 -> foo_method_3;\n",
      "bar_method_c -> baz_method_c;\n",
      "bar_method_b -> baz_method_b;\n",
      "}\n",
      "\n"
     ]
    },
    {
     "data": {
      "text/html": [
       "<a href=\"data/output/images/0600_0101_cluster.svg\" target=\"blank\"><h4>cluster</h4></a>\n",
       "<img src=\"data/output/images/0600_0101_cluster.svg\" style=\"max-width: 100%\" />"
      ],
      "text/plain": [
       "<IPython.core.display.HTML object>"
      ]
     },
     "execution_count": 1,
     "metadata": {},
     "output_type": "execute_result"
    }
   ],
   "source": [
    "from my_happy_graphviz import pydot\n",
    "from my_happy_jupyter_utils import (\n",
    "    image_utils\n",
    ")\n",
    "\n",
    "\n",
    "G = pydot.Dot(graph_type='digraph')\n",
    "\n",
    "\n",
    "cluster_foo = pydot.Cluster('foo', label='foo')\n",
    "cluster_foo.add_node(pydot.Node('foo_method_1', label='method_1'))\n",
    "cluster_foo.add_node(pydot.Node('foo_method_2', label='method_2'))\n",
    "cluster_foo.add_node(pydot.Node('foo_method_3', label='method_3'))\n",
    "\n",
    "G.add_subgraph(cluster_foo)\n",
    "\n",
    "\n",
    "cluster_bar = pydot.Cluster('bar')\n",
    "cluster_bar.add_node(\"bar_method_a\")\n",
    "cluster_bar.add_node(\"bar_method_b\")\n",
    "cluster_bar.add_node(\"bar_method_c\")\n",
    "\n",
    "\n",
    "G.add_subgraph(cluster_bar)\n",
    "\n",
    "\n",
    "cluster_baz = pydot.Cluster('baz')\n",
    "cluster_baz.add_node('baz_method_1')\n",
    "cluster_baz.add_node('baz_method_b')\n",
    "cluster_baz.add_node('baz_method_3')\n",
    "cluster_baz.add_node('baz_method_c')\n",
    "\n",
    "G.add_subgraph(cluster_baz)\n",
    "\n",
    "\n",
    "\n",
    "G.add_edge_str(\"main\", \"sub\")\n",
    "G.add_edge_str('bar_method_a', 'bar_method_c')\n",
    "G.add_edge_str('bar_method_a', 'foo_method_2')\n",
    "\n",
    "G.add_edge_str('foo_method_2', 'baz_method_3')\n",
    "\n",
    "G.add_edge_str('bar_method_b', 'foo_method_1')\n",
    "G.add_edge_str('bar_method_b', 'foo_method_2')\n",
    "G.add_edge_str('bar_method_b', 'baz_method_1')\n",
    "\n",
    "G.add_edge_str('foo_method_2', 'foo_method_3')\n",
    "G.add_edge_str('bar_method_c', 'baz_method_c')\n",
    "G.add_edge_str('bar_method_b', 'baz_method_b')\n",
    "\n",
    "\n",
    "print(G.to_string())\n",
    "\n",
    "file_name = '/'.join([\n",
    "    'data/output/images',\n",
    "    '0600_0101_cluster.svg'\n",
    "])\n",
    "\n",
    "G.draw(file_name)\n",
    "\n",
    "image_utils.show_image_with_title_by_url({\n",
    "    'file_path': file_name,\n",
    "    'title': 'cluster',\n",
    "})"
   ]
  },
  {
   "cell_type": "markdown",
   "metadata": {},
   "source": []
  }
 ],
 "metadata": {
  "kernelspec": {
   "display_name": "Python 3",
   "language": "python",
   "name": "python3"
  },
  "language_info": {
   "codemirror_mode": {
    "name": "ipython",
    "version": 3
   },
   "file_extension": ".py",
   "mimetype": "text/x-python",
   "name": "python",
   "nbconvert_exporter": "python",
   "pygments_lexer": "ipython3",
   "version": "3.7.7"
  }
 },
 "nbformat": 4,
 "nbformat_minor": 4
}
