{
 "cells": [
  {
   "cell_type": "markdown",
   "metadata": {},
   "source": [
    "# node property"
   ]
  },
  {
   "cell_type": "markdown",
   "metadata": {},
   "source": [
    "## simple"
   ]
  },
  {
   "cell_type": "code",
   "execution_count": 1,
   "metadata": {},
   "outputs": [
    {
     "name": "stdout",
     "output_type": "stream",
     "text": [
      "digraph G {\n",
      "node [shape=record];\n",
      "node0 [label=\"<f0> |<f1> G|<f2>\"];\n",
      "node1 [label=\"<f0> |<f1> E|<f2>\"];\n",
      "node2 [label=\"<f0> |<f1> R|<f2>\"];\n",
      "node0 -> node2;\n",
      "node0 -> node1;\n",
      "}\n",
      "\n"
     ]
    },
    {
     "data": {
      "text/html": [
       "<a href=\"data/output/images/0401_0101_node_property.svg\" target=\"blank\"><h4>node property</h4></a>\n",
       "<img src=\"data/output/images/0401_0101_node_property.svg\" style=\"max-width: 100%\" />"
      ],
      "text/plain": [
       "<IPython.core.display.HTML object>"
      ]
     },
     "execution_count": 1,
     "metadata": {},
     "output_type": "execute_result"
    }
   ],
   "source": [
    "from my_happy_graphviz import pydot\n",
    "from my_happy_jupyter_utils import (\n",
    "    image_utils\n",
    ")\n",
    "\n",
    "\n",
    "\n",
    "G = pydot.Dot()\n",
    "\n",
    "G.set_node_defaults(shape=\"record\")\n",
    "\n",
    "node_0 = pydot.Node('node0', label=\"\\\"<f0> |<f1> G|<f2>\\\"\")\n",
    "node_1 = pydot.Node('node1', label=\"\\\"<f0> |<f1> E|<f2>\\\"\")\n",
    "node_2 = pydot.Node('node2', label=\"\\\"<f0> |<f1> R|<f2>\\\"\")\n",
    "\n",
    "G.add_node(node_0)\n",
    "G.add_node(node_1)\n",
    "G.add_node(node_2)\n",
    "\n",
    "G.add_edge(pydot.Edge(node_0, node_2))\n",
    "G.add_edge(pydot.Edge(node_0, node_1))\n",
    "\n",
    "print(G.to_string())\n",
    "\n",
    "file_name = '/'.join([\n",
    "    'data/output/images',\n",
    "    '0401_0101_node_property.svg'\n",
    "])\n",
    "\n",
    "G.draw(file_name)\n",
    "\n",
    "image_utils.show_image_with_title_by_url({\n",
    "    'file_path': file_name,\n",
    "    'title': 'node property',\n",
    "})"
   ]
  },
  {
   "cell_type": "markdown",
   "metadata": {},
   "source": []
  }
 ],
 "metadata": {
  "kernelspec": {
   "display_name": "Python 3",
   "language": "python",
   "name": "python3"
  },
  "language_info": {
   "codemirror_mode": {
    "name": "ipython",
    "version": 3
   },
   "file_extension": ".py",
   "mimetype": "text/x-python",
   "name": "python",
   "nbconvert_exporter": "python",
   "pygments_lexer": "ipython3",
   "version": "3.7.7"
  }
 },
 "nbformat": 4,
 "nbformat_minor": 4
}
