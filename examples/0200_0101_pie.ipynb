{
 "cells": [
  {
   "cell_type": "markdown",
   "metadata": {},
   "source": [
    "# example pie"
   ]
  },
  {
   "cell_type": "markdown",
   "metadata": {},
   "source": [
    "## basic"
   ]
  },
  {
   "cell_type": "code",
   "execution_count": 1,
   "metadata": {},
   "outputs": [
    {
     "name": "stdout",
     "output_type": "stream",
     "text": [
      "graph G {\n",
      "king -- lord0;\n",
      "king -- lord1;\n",
      "king -- lord2;\n",
      "lord0 -- vassal0;\n",
      "lord0 -- vassal1;\n",
      "lord1 -- vassal2;\n",
      "lord1 -- vassal3;\n",
      "lord2 -- vassal4;\n",
      "lord2 -- vassal5;\n",
      "}\n",
      "\n"
     ]
    },
    {
     "data": {
      "text/html": [
       "<a href=\"data/output/images/0201_0101_pie.svg\" target=\"blank\"><h4>pie</h4></a>\n",
       "<img src=\"data/output/images/0201_0101_pie.svg\" style=\"max-width: 100%\" />"
      ],
      "text/plain": [
       "<IPython.core.display.HTML object>"
      ]
     },
     "execution_count": 1,
     "metadata": {},
     "output_type": "execute_result"
    }
   ],
   "source": [
    "from my_happy_graphviz import pydot\n",
    "from my_happy_jupyter_utils import (\n",
    "    image_utils\n",
    ")\n",
    "\n",
    "\n",
    "G = pydot.Dot(graph_type='graph')\n",
    "\n",
    "\n",
    "for i in range(3):\n",
    "    edge = pydot.Edge(\"king\", \"lord%d\" % i)\n",
    "    G.add_edge(edge)\n",
    "\n",
    "\n",
    "vassal_num = 0\n",
    "# now let us add some vassals\n",
    "for i in range(3):\n",
    "    for j in range(2):\n",
    "        edge = pydot.Edge(\"lord%d\" % i, \"vassal%d\" % vassal_num)\n",
    "        G.add_edge(edge)\n",
    "        vassal_num += 1\n",
    "\n",
    "print(G.to_string())\n",
    "\n",
    "file_name = '/'.join([\n",
    "    'data/output/images',\n",
    "    '0201_0101_pie.svg'\n",
    "])\n",
    "\n",
    "G.draw(file_name)\n",
    "\n",
    "image_utils.show_image_with_title_by_url({\n",
    "    'file_path': file_name,\n",
    "    'title': 'pie',\n",
    "})"
   ]
  },
  {
   "cell_type": "markdown",
   "metadata": {},
   "source": [
    "## color pie"
   ]
  },
  {
   "cell_type": "code",
   "execution_count": 2,
   "metadata": {},
   "outputs": [
    {
     "name": "stdout",
     "output_type": "stream",
     "text": [
      "digraph G {\n",
      "\"Node A\" [fillcolor=red, style=filled];\n",
      "\"Node B\" [fillcolor=green, style=filled];\n",
      "\"Node C\" [fillcolor=\"#0000ff\", style=filled];\n",
      "\"Node D\" [fillcolor=\"#976856\", style=filled];\n",
      "\"Node A\" -> \"Node B\";\n",
      "\"Node B\" -> \"Node C\";\n",
      "\"Node C\" -> \"Node D\";\n",
      "\"Node D\" -> \"Node A\"  [color=blue, fontsize=\"10.0\", label=\"and back we go again\", labelfontcolor=\"#009933\"];\n",
      "}\n",
      "\n"
     ]
    },
    {
     "data": {
      "text/html": [
       "<a href=\"data/output/images/0201_0102_color_pie.svg\" target=\"blank\"><h4>color pie</h4></a>\n",
       "<img src=\"data/output/images/0201_0102_color_pie.svg\" style=\"max-width: 100%\" />"
      ],
      "text/plain": [
       "<IPython.core.display.HTML object>"
      ]
     },
     "execution_count": 2,
     "metadata": {},
     "output_type": "execute_result"
    }
   ],
   "source": [
    "from my_happy_graphviz import pydot\n",
    "from my_happy_jupyter_utils import (\n",
    "    image_utils\n",
    ")\n",
    "\n",
    "\n",
    "G = pydot.Dot(graph_type='digraph')\n",
    "\n",
    "node_a = pydot.Node(\"Node A\", style=\"filled\", fillcolor=\"red\")\n",
    "node_b = pydot.Node(\"Node B\", style=\"filled\", fillcolor=\"green\")\n",
    "node_c = pydot.Node(\"Node C\", style=\"filled\", fillcolor=\"#0000ff\")\n",
    "node_d = pydot.Node(\"Node D\", style=\"filled\", fillcolor=\"#976856\")\n",
    "\n",
    "\n",
    "\n",
    "G.add_node(node_a)\n",
    "G.add_node(node_b)\n",
    "G.add_node(node_c)\n",
    "G.add_node(node_d)\n",
    "\n",
    "\n",
    "G.add_edge(pydot.Edge(node_a, node_b))\n",
    "G.add_edge(pydot.Edge(node_b, node_c))\n",
    "G.add_edge(pydot.Edge(node_c, node_d))\n",
    "G.add_edge(pydot.Edge(\n",
    "    node_d,\n",
    "    node_a,\n",
    "    label=\"and back we go again\",\n",
    "    labelfontcolor=\"#009933\",\n",
    "    fontsize=\"10.0\",\n",
    "    color=\"blue\"\n",
    "))\n",
    "\n",
    "\n",
    "\n",
    "\n",
    "print(G.to_string())\n",
    "\n",
    "file_name = '/'.join([\n",
    "    'data/output/images',\n",
    "    '0201_0102_color_pie.svg'\n",
    "])\n",
    "\n",
    "G.draw(file_name)\n",
    "\n",
    "image_utils.show_image_with_title_by_url({\n",
    "    'file_path': file_name,\n",
    "    'title': 'color pie',\n",
    "})"
   ]
  },
  {
   "cell_type": "code",
   "execution_count": null,
   "metadata": {},
   "outputs": [],
   "source": []
  }
 ],
 "metadata": {
  "kernelspec": {
   "display_name": "Python 3",
   "language": "python",
   "name": "python3"
  },
  "language_info": {
   "codemirror_mode": {
    "name": "ipython",
    "version": 3
   },
   "file_extension": ".py",
   "mimetype": "text/x-python",
   "name": "python",
   "nbconvert_exporter": "python",
   "pygments_lexer": "ipython3",
   "version": "3.7.7"
  }
 },
 "nbformat": 4,
 "nbformat_minor": 4
}
